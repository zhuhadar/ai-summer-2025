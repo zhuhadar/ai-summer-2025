{
  "nbformat": 4,
  "nbformat_minor": 0,
  "metadata": {
    "colab": {
      "provenance": [],
      "include_colab_link": true
    },
    "kernelspec": {
      "name": "python3",
      "display_name": "Python 3"
    },
    "language_info": {
      "name": "python"
    }
  },
  "cells": [
    {
      "cell_type": "markdown",
      "metadata": {
        "id": "view-in-github",
        "colab_type": "text"
      },
      "source": [
        "<a href=\"https://colab.research.google.com/github/zhuhadar/ai-summer-2025/blob/main/RAG.ipynb\" target=\"_parent\"><img src=\"https://colab.research.google.com/assets/colab-badge.svg\" alt=\"Open In Colab\"/></a>"
      ]
    },
    {
      "cell_type": "markdown",
      "source": [
        "# AI Summer 2025 - Retrieval Augmented Generation, LangChain, and Memory Management"
      ],
      "metadata": {
        "id": "sgiypC74i6hq"
      }
    },
    {
      "cell_type": "markdown",
      "source": [
        "## Introduction to Retrieval-Augmented Generation (RAG)\n",
        "\n",
        "Retrieval-Augmented Generation (RAG) is an architecture that enhances large language models (LLMs) by providing them with relevant information retrieved from external sources. Rather than relying solely on the model's internal knowledge, RAG allows the model to \"look up\" information before generating a response, improving accuracy and reducing hallucinations.\n",
        "\n",
        "The core workflow consists of:\n",
        "\n",
        "1. **Ingestion**: Loading documents and splitting them into manageable chunks\n",
        "2. **Embedding**: Converting each chunk into a vector representation that captures its semantic meaning\n",
        "3. **Retrieval**: Finding the most relevant chunks based on a user query\n",
        "4. **Generation**: Using the retrieved information to inform the model's response\n",
        "\n",
        "Throughout this notebook, we'll build a comprehensive RAG application using LangChain and LangGraph, with a focus on maintaining conversation memory across multiple interactions."
      ],
      "metadata": {
        "id": "OK5sadlHjOOC"
      }
    },
    {
      "cell_type": "markdown",
      "source": [
        "## LangChain Framework Overview\n",
        "\n",
        "LangChain is a framework designed for developing applications powered by large language models. It provides standardized interfaces for working with LLMs and related technologies, along with pre-built components that can be assembled to create sophisticated applications.\n",
        "\n",
        "The LangChain ecosystem consists of several core components:\n",
        "\n",
        "- **langchain-core**: Base abstractions for chat models and other foundational components\n",
        "- **Integration packages** (e.g., langchain-openai, langchain-anthropic): Lightweight packages for specific model providers\n",
        "- **langchain**: Higher-level components like chains, agents, and retrieval strategies\n",
        "- **langchain-community**: Third-party integrations maintained by the community\n",
        "- **langgraph**: Orchestration framework for combining components into production-ready applications\n",
        "\n",
        "Let's start by installing the necessary packages and setting up our environment:"
      ],
      "metadata": {
        "id": "HiVx6hEhjQv8"
      }
    },
    {
      "cell_type": "code",
      "source": [
        "#Install necessary packages\n",
        "\n",
        "!pip install langchain langchain-core langchain-community langchain-openai streamlit langgraph bs4 pypdf langchain-google-genai"
      ],
      "metadata": {
        "colab": {
          "base_uri": "https://localhost:8080/",
          "height": 1000
        },
        "id": "7YNZRBJ6jNkV",
        "outputId": "0eca2d26-6549-4c30-f5ee-80f9063b2e61"
      },
      "execution_count": 1,
      "outputs": [
        {
          "output_type": "stream",
          "name": "stdout",
          "text": [
            "Requirement already satisfied: langchain in /usr/local/lib/python3.11/dist-packages (0.3.25)\n",
            "Requirement already satisfied: langchain-core in /usr/local/lib/python3.11/dist-packages (0.3.59)\n",
            "Collecting langchain-community\n",
            "  Downloading langchain_community-0.3.24-py3-none-any.whl.metadata (2.5 kB)\n",
            "Collecting langchain-openai\n",
            "  Downloading langchain_openai-0.3.17-py3-none-any.whl.metadata (2.3 kB)\n",
            "Collecting streamlit\n",
            "  Downloading streamlit-1.45.1-py3-none-any.whl.metadata (8.9 kB)\n",
            "Collecting langgraph\n",
            "  Downloading langgraph-0.4.5-py3-none-any.whl.metadata (7.3 kB)\n",
            "Collecting bs4\n",
            "  Downloading bs4-0.0.2-py2.py3-none-any.whl.metadata (411 bytes)\n",
            "Collecting pypdf\n",
            "  Downloading pypdf-5.5.0-py3-none-any.whl.metadata (7.2 kB)\n",
            "Collecting langchain-google-genai\n",
            "  Downloading langchain_google_genai-2.1.4-py3-none-any.whl.metadata (5.2 kB)\n",
            "Requirement already satisfied: langchain-text-splitters<1.0.0,>=0.3.8 in /usr/local/lib/python3.11/dist-packages (from langchain) (0.3.8)\n",
            "Requirement already satisfied: langsmith<0.4,>=0.1.17 in /usr/local/lib/python3.11/dist-packages (from langchain) (0.3.42)\n",
            "Requirement already satisfied: pydantic<3.0.0,>=2.7.4 in /usr/local/lib/python3.11/dist-packages (from langchain) (2.11.4)\n",
            "Requirement already satisfied: SQLAlchemy<3,>=1.4 in /usr/local/lib/python3.11/dist-packages (from langchain) (2.0.40)\n",
            "Requirement already satisfied: requests<3,>=2 in /usr/local/lib/python3.11/dist-packages (from langchain) (2.32.3)\n",
            "Requirement already satisfied: PyYAML>=5.3 in /usr/local/lib/python3.11/dist-packages (from langchain) (6.0.2)\n",
            "Requirement already satisfied: tenacity!=8.4.0,<10.0.0,>=8.1.0 in /usr/local/lib/python3.11/dist-packages (from langchain-core) (9.1.2)\n",
            "Requirement already satisfied: jsonpatch<2.0,>=1.33 in /usr/local/lib/python3.11/dist-packages (from langchain-core) (1.33)\n",
            "Requirement already satisfied: packaging<25,>=23.2 in /usr/local/lib/python3.11/dist-packages (from langchain-core) (24.2)\n",
            "Requirement already satisfied: typing-extensions>=4.7 in /usr/local/lib/python3.11/dist-packages (from langchain-core) (4.13.2)\n",
            "Requirement already satisfied: aiohttp<4.0.0,>=3.8.3 in /usr/local/lib/python3.11/dist-packages (from langchain-community) (3.11.15)\n",
            "Collecting dataclasses-json<0.7,>=0.5.7 (from langchain-community)\n",
            "  Downloading dataclasses_json-0.6.7-py3-none-any.whl.metadata (25 kB)\n",
            "Collecting pydantic-settings<3.0.0,>=2.4.0 (from langchain-community)\n",
            "  Downloading pydantic_settings-2.9.1-py3-none-any.whl.metadata (3.8 kB)\n",
            "Collecting httpx-sse<1.0.0,>=0.4.0 (from langchain-community)\n",
            "  Downloading httpx_sse-0.4.0-py3-none-any.whl.metadata (9.0 kB)\n",
            "Requirement already satisfied: numpy>=1.26.2 in /usr/local/lib/python3.11/dist-packages (from langchain-community) (2.0.2)\n",
            "Requirement already satisfied: openai<2.0.0,>=1.68.2 in /usr/local/lib/python3.11/dist-packages (from langchain-openai) (1.78.1)\n",
            "Requirement already satisfied: tiktoken<1,>=0.7 in /usr/local/lib/python3.11/dist-packages (from langchain-openai) (0.9.0)\n",
            "Requirement already satisfied: altair<6,>=4.0 in /usr/local/lib/python3.11/dist-packages (from streamlit) (5.5.0)\n",
            "Requirement already satisfied: blinker<2,>=1.5.0 in /usr/local/lib/python3.11/dist-packages (from streamlit) (1.9.0)\n",
            "Requirement already satisfied: cachetools<6,>=4.0 in /usr/local/lib/python3.11/dist-packages (from streamlit) (5.5.2)\n",
            "Requirement already satisfied: click<9,>=7.0 in /usr/local/lib/python3.11/dist-packages (from streamlit) (8.2.0)\n",
            "Requirement already satisfied: pandas<3,>=1.4.0 in /usr/local/lib/python3.11/dist-packages (from streamlit) (2.2.2)\n",
            "Requirement already satisfied: pillow<12,>=7.1.0 in /usr/local/lib/python3.11/dist-packages (from streamlit) (11.2.1)\n",
            "Requirement already satisfied: protobuf<7,>=3.20 in /usr/local/lib/python3.11/dist-packages (from streamlit) (5.29.4)\n",
            "Requirement already satisfied: pyarrow>=7.0 in /usr/local/lib/python3.11/dist-packages (from streamlit) (18.1.0)\n",
            "Requirement already satisfied: toml<2,>=0.10.1 in /usr/local/lib/python3.11/dist-packages (from streamlit) (0.10.2)\n",
            "Collecting watchdog<7,>=2.1.5 (from streamlit)\n",
            "  Downloading watchdog-6.0.0-py3-none-manylinux2014_x86_64.whl.metadata (44 kB)\n",
            "\u001b[2K     \u001b[90m━━━━━━━━━━━━━━━━━━━━━━━━━━━━━━━━━━━━━━━━\u001b[0m \u001b[32m44.3/44.3 kB\u001b[0m \u001b[31m1.2 MB/s\u001b[0m eta \u001b[36m0:00:00\u001b[0m\n",
            "\u001b[?25hRequirement already satisfied: gitpython!=3.1.19,<4,>=3.0.7 in /usr/local/lib/python3.11/dist-packages (from streamlit) (3.1.44)\n",
            "Collecting pydeck<1,>=0.8.0b4 (from streamlit)\n",
            "  Downloading pydeck-0.9.1-py2.py3-none-any.whl.metadata (4.1 kB)\n",
            "Requirement already satisfied: tornado<7,>=6.0.3 in /usr/local/lib/python3.11/dist-packages (from streamlit) (6.4.2)\n",
            "Collecting langgraph-checkpoint<3.0.0,>=2.0.26 (from langgraph)\n",
            "  Downloading langgraph_checkpoint-2.0.26-py3-none-any.whl.metadata (4.6 kB)\n",
            "Collecting langgraph-prebuilt>=0.1.8 (from langgraph)\n",
            "  Downloading langgraph_prebuilt-0.1.8-py3-none-any.whl.metadata (5.0 kB)\n",
            "Collecting langgraph-sdk>=0.1.42 (from langgraph)\n",
            "  Downloading langgraph_sdk-0.1.69-py3-none-any.whl.metadata (1.8 kB)\n",
            "Requirement already satisfied: xxhash<4.0.0,>=3.5.0 in /usr/local/lib/python3.11/dist-packages (from langgraph) (3.5.0)\n",
            "Requirement already satisfied: beautifulsoup4 in /usr/local/lib/python3.11/dist-packages (from bs4) (4.13.4)\n",
            "Collecting filetype<2.0.0,>=1.2.0 (from langchain-google-genai)\n",
            "  Downloading filetype-1.2.0-py2.py3-none-any.whl.metadata (6.5 kB)\n",
            "Collecting google-ai-generativelanguage<0.7.0,>=0.6.18 (from langchain-google-genai)\n",
            "  Downloading google_ai_generativelanguage-0.6.18-py3-none-any.whl.metadata (9.8 kB)\n",
            "Requirement already satisfied: aiohappyeyeballs>=2.3.0 in /usr/local/lib/python3.11/dist-packages (from aiohttp<4.0.0,>=3.8.3->langchain-community) (2.6.1)\n",
            "Requirement already satisfied: aiosignal>=1.1.2 in /usr/local/lib/python3.11/dist-packages (from aiohttp<4.0.0,>=3.8.3->langchain-community) (1.3.2)\n",
            "Requirement already satisfied: attrs>=17.3.0 in /usr/local/lib/python3.11/dist-packages (from aiohttp<4.0.0,>=3.8.3->langchain-community) (25.3.0)\n",
            "Requirement already satisfied: frozenlist>=1.1.1 in /usr/local/lib/python3.11/dist-packages (from aiohttp<4.0.0,>=3.8.3->langchain-community) (1.6.0)\n",
            "Requirement already satisfied: multidict<7.0,>=4.5 in /usr/local/lib/python3.11/dist-packages (from aiohttp<4.0.0,>=3.8.3->langchain-community) (6.4.3)\n",
            "Requirement already satisfied: propcache>=0.2.0 in /usr/local/lib/python3.11/dist-packages (from aiohttp<4.0.0,>=3.8.3->langchain-community) (0.3.1)\n",
            "Requirement already satisfied: yarl<2.0,>=1.17.0 in /usr/local/lib/python3.11/dist-packages (from aiohttp<4.0.0,>=3.8.3->langchain-community) (1.20.0)\n",
            "Requirement already satisfied: jinja2 in /usr/local/lib/python3.11/dist-packages (from altair<6,>=4.0->streamlit) (3.1.6)\n",
            "Requirement already satisfied: jsonschema>=3.0 in /usr/local/lib/python3.11/dist-packages (from altair<6,>=4.0->streamlit) (4.23.0)\n",
            "Requirement already satisfied: narwhals>=1.14.2 in /usr/local/lib/python3.11/dist-packages (from altair<6,>=4.0->streamlit) (1.39.0)\n",
            "Collecting marshmallow<4.0.0,>=3.18.0 (from dataclasses-json<0.7,>=0.5.7->langchain-community)\n",
            "  Downloading marshmallow-3.26.1-py3-none-any.whl.metadata (7.3 kB)\n",
            "Collecting typing-inspect<1,>=0.4.0 (from dataclasses-json<0.7,>=0.5.7->langchain-community)\n",
            "  Downloading typing_inspect-0.9.0-py3-none-any.whl.metadata (1.5 kB)\n",
            "Requirement already satisfied: gitdb<5,>=4.0.1 in /usr/local/lib/python3.11/dist-packages (from gitpython!=3.1.19,<4,>=3.0.7->streamlit) (4.0.12)\n",
            "Requirement already satisfied: google-api-core!=2.0.*,!=2.1.*,!=2.10.*,!=2.2.*,!=2.3.*,!=2.4.*,!=2.5.*,!=2.6.*,!=2.7.*,!=2.8.*,!=2.9.*,<3.0.0,>=1.34.1 in /usr/local/lib/python3.11/dist-packages (from google-api-core[grpc]!=2.0.*,!=2.1.*,!=2.10.*,!=2.2.*,!=2.3.*,!=2.4.*,!=2.5.*,!=2.6.*,!=2.7.*,!=2.8.*,!=2.9.*,<3.0.0,>=1.34.1->google-ai-generativelanguage<0.7.0,>=0.6.18->langchain-google-genai) (2.24.2)\n",
            "Requirement already satisfied: google-auth!=2.24.0,!=2.25.0,<3.0.0,>=2.14.1 in /usr/local/lib/python3.11/dist-packages (from google-ai-generativelanguage<0.7.0,>=0.6.18->langchain-google-genai) (2.38.0)\n",
            "Requirement already satisfied: proto-plus<2.0.0,>=1.22.3 in /usr/local/lib/python3.11/dist-packages (from google-ai-generativelanguage<0.7.0,>=0.6.18->langchain-google-genai) (1.26.1)\n",
            "Requirement already satisfied: jsonpointer>=1.9 in /usr/local/lib/python3.11/dist-packages (from jsonpatch<2.0,>=1.33->langchain-core) (3.0.0)\n",
            "Collecting ormsgpack<2.0.0,>=1.8.0 (from langgraph-checkpoint<3.0.0,>=2.0.26->langgraph)\n",
            "  Downloading ormsgpack-1.9.1-cp311-cp311-manylinux_2_17_x86_64.manylinux2014_x86_64.whl.metadata (43 kB)\n",
            "\u001b[2K     \u001b[90m━━━━━━━━━━━━━━━━━━━━━━━━━━━━━━━━━━━━━━━━\u001b[0m \u001b[32m43.5/43.5 kB\u001b[0m \u001b[31m2.0 MB/s\u001b[0m eta \u001b[36m0:00:00\u001b[0m\n",
            "\u001b[?25hRequirement already satisfied: httpx>=0.25.2 in /usr/local/lib/python3.11/dist-packages (from langgraph-sdk>=0.1.42->langgraph) (0.28.1)\n",
            "Requirement already satisfied: orjson>=3.10.1 in /usr/local/lib/python3.11/dist-packages (from langgraph-sdk>=0.1.42->langgraph) (3.10.18)\n",
            "Requirement already satisfied: requests-toolbelt<2.0.0,>=1.0.0 in /usr/local/lib/python3.11/dist-packages (from langsmith<0.4,>=0.1.17->langchain) (1.0.0)\n",
            "Requirement already satisfied: zstandard<0.24.0,>=0.23.0 in /usr/local/lib/python3.11/dist-packages (from langsmith<0.4,>=0.1.17->langchain) (0.23.0)\n",
            "Requirement already satisfied: anyio<5,>=3.5.0 in /usr/local/lib/python3.11/dist-packages (from openai<2.0.0,>=1.68.2->langchain-openai) (4.9.0)\n",
            "Requirement already satisfied: distro<2,>=1.7.0 in /usr/local/lib/python3.11/dist-packages (from openai<2.0.0,>=1.68.2->langchain-openai) (1.9.0)\n",
            "Requirement already satisfied: jiter<1,>=0.4.0 in /usr/local/lib/python3.11/dist-packages (from openai<2.0.0,>=1.68.2->langchain-openai) (0.9.0)\n",
            "Requirement already satisfied: sniffio in /usr/local/lib/python3.11/dist-packages (from openai<2.0.0,>=1.68.2->langchain-openai) (1.3.1)\n",
            "Requirement already satisfied: tqdm>4 in /usr/local/lib/python3.11/dist-packages (from openai<2.0.0,>=1.68.2->langchain-openai) (4.67.1)\n",
            "Requirement already satisfied: python-dateutil>=2.8.2 in /usr/local/lib/python3.11/dist-packages (from pandas<3,>=1.4.0->streamlit) (2.9.0.post0)\n",
            "Requirement already satisfied: pytz>=2020.1 in /usr/local/lib/python3.11/dist-packages (from pandas<3,>=1.4.0->streamlit) (2025.2)\n",
            "Requirement already satisfied: tzdata>=2022.7 in /usr/local/lib/python3.11/dist-packages (from pandas<3,>=1.4.0->streamlit) (2025.2)\n",
            "Requirement already satisfied: annotated-types>=0.6.0 in /usr/local/lib/python3.11/dist-packages (from pydantic<3.0.0,>=2.7.4->langchain) (0.7.0)\n",
            "Requirement already satisfied: pydantic-core==2.33.2 in /usr/local/lib/python3.11/dist-packages (from pydantic<3.0.0,>=2.7.4->langchain) (2.33.2)\n",
            "Requirement already satisfied: typing-inspection>=0.4.0 in /usr/local/lib/python3.11/dist-packages (from pydantic<3.0.0,>=2.7.4->langchain) (0.4.0)\n",
            "Collecting python-dotenv>=0.21.0 (from pydantic-settings<3.0.0,>=2.4.0->langchain-community)\n",
            "  Downloading python_dotenv-1.1.0-py3-none-any.whl.metadata (24 kB)\n",
            "Requirement already satisfied: charset-normalizer<4,>=2 in /usr/local/lib/python3.11/dist-packages (from requests<3,>=2->langchain) (3.4.2)\n",
            "Requirement already satisfied: idna<4,>=2.5 in /usr/local/lib/python3.11/dist-packages (from requests<3,>=2->langchain) (3.10)\n",
            "Requirement already satisfied: urllib3<3,>=1.21.1 in /usr/local/lib/python3.11/dist-packages (from requests<3,>=2->langchain) (2.4.0)\n",
            "Requirement already satisfied: certifi>=2017.4.17 in /usr/local/lib/python3.11/dist-packages (from requests<3,>=2->langchain) (2025.4.26)\n",
            "Requirement already satisfied: greenlet>=1 in /usr/local/lib/python3.11/dist-packages (from SQLAlchemy<3,>=1.4->langchain) (3.2.2)\n",
            "Requirement already satisfied: regex>=2022.1.18 in /usr/local/lib/python3.11/dist-packages (from tiktoken<1,>=0.7->langchain-openai) (2024.11.6)\n",
            "Requirement already satisfied: soupsieve>1.2 in /usr/local/lib/python3.11/dist-packages (from beautifulsoup4->bs4) (2.7)\n",
            "Requirement already satisfied: smmap<6,>=3.0.1 in /usr/local/lib/python3.11/dist-packages (from gitdb<5,>=4.0.1->gitpython!=3.1.19,<4,>=3.0.7->streamlit) (5.0.2)\n",
            "Requirement already satisfied: googleapis-common-protos<2.0.0,>=1.56.2 in /usr/local/lib/python3.11/dist-packages (from google-api-core!=2.0.*,!=2.1.*,!=2.10.*,!=2.2.*,!=2.3.*,!=2.4.*,!=2.5.*,!=2.6.*,!=2.7.*,!=2.8.*,!=2.9.*,<3.0.0,>=1.34.1->google-api-core[grpc]!=2.0.*,!=2.1.*,!=2.10.*,!=2.2.*,!=2.3.*,!=2.4.*,!=2.5.*,!=2.6.*,!=2.7.*,!=2.8.*,!=2.9.*,<3.0.0,>=1.34.1->google-ai-generativelanguage<0.7.0,>=0.6.18->langchain-google-genai) (1.70.0)\n",
            "Requirement already satisfied: grpcio<2.0dev,>=1.33.2 in /usr/local/lib/python3.11/dist-packages (from google-api-core[grpc]!=2.0.*,!=2.1.*,!=2.10.*,!=2.2.*,!=2.3.*,!=2.4.*,!=2.5.*,!=2.6.*,!=2.7.*,!=2.8.*,!=2.9.*,<3.0.0,>=1.34.1->google-ai-generativelanguage<0.7.0,>=0.6.18->langchain-google-genai) (1.71.0)\n",
            "Requirement already satisfied: grpcio-status<2.0.dev0,>=1.33.2 in /usr/local/lib/python3.11/dist-packages (from google-api-core[grpc]!=2.0.*,!=2.1.*,!=2.10.*,!=2.2.*,!=2.3.*,!=2.4.*,!=2.5.*,!=2.6.*,!=2.7.*,!=2.8.*,!=2.9.*,<3.0.0,>=1.34.1->google-ai-generativelanguage<0.7.0,>=0.6.18->langchain-google-genai) (1.71.0)\n",
            "Requirement already satisfied: pyasn1-modules>=0.2.1 in /usr/local/lib/python3.11/dist-packages (from google-auth!=2.24.0,!=2.25.0,<3.0.0,>=2.14.1->google-ai-generativelanguage<0.7.0,>=0.6.18->langchain-google-genai) (0.4.2)\n",
            "Requirement already satisfied: rsa<5,>=3.1.4 in /usr/local/lib/python3.11/dist-packages (from google-auth!=2.24.0,!=2.25.0,<3.0.0,>=2.14.1->google-ai-generativelanguage<0.7.0,>=0.6.18->langchain-google-genai) (4.9.1)\n",
            "Requirement already satisfied: httpcore==1.* in /usr/local/lib/python3.11/dist-packages (from httpx>=0.25.2->langgraph-sdk>=0.1.42->langgraph) (1.0.9)\n",
            "Requirement already satisfied: h11>=0.16 in /usr/local/lib/python3.11/dist-packages (from httpcore==1.*->httpx>=0.25.2->langgraph-sdk>=0.1.42->langgraph) (0.16.0)\n",
            "Requirement already satisfied: MarkupSafe>=2.0 in /usr/local/lib/python3.11/dist-packages (from jinja2->altair<6,>=4.0->streamlit) (3.0.2)\n",
            "Requirement already satisfied: jsonschema-specifications>=2023.03.6 in /usr/local/lib/python3.11/dist-packages (from jsonschema>=3.0->altair<6,>=4.0->streamlit) (2025.4.1)\n",
            "Requirement already satisfied: referencing>=0.28.4 in /usr/local/lib/python3.11/dist-packages (from jsonschema>=3.0->altair<6,>=4.0->streamlit) (0.36.2)\n",
            "Requirement already satisfied: rpds-py>=0.7.1 in /usr/local/lib/python3.11/dist-packages (from jsonschema>=3.0->altair<6,>=4.0->streamlit) (0.24.0)\n",
            "Requirement already satisfied: six>=1.5 in /usr/local/lib/python3.11/dist-packages (from python-dateutil>=2.8.2->pandas<3,>=1.4.0->streamlit) (1.17.0)\n",
            "Collecting mypy-extensions>=0.3.0 (from typing-inspect<1,>=0.4.0->dataclasses-json<0.7,>=0.5.7->langchain-community)\n",
            "  Downloading mypy_extensions-1.1.0-py3-none-any.whl.metadata (1.1 kB)\n",
            "Requirement already satisfied: pyasn1<0.7.0,>=0.6.1 in /usr/local/lib/python3.11/dist-packages (from pyasn1-modules>=0.2.1->google-auth!=2.24.0,!=2.25.0,<3.0.0,>=2.14.1->google-ai-generativelanguage<0.7.0,>=0.6.18->langchain-google-genai) (0.6.1)\n",
            "Downloading langchain_community-0.3.24-py3-none-any.whl (2.5 MB)\n",
            "\u001b[2K   \u001b[90m━━━━━━━━━━━━━━━━━━━━━━━━━━━━━━━━━━━━━━━━\u001b[0m \u001b[32m2.5/2.5 MB\u001b[0m \u001b[31m17.3 MB/s\u001b[0m eta \u001b[36m0:00:00\u001b[0m\n",
            "\u001b[?25hDownloading langchain_openai-0.3.17-py3-none-any.whl (62 kB)\n",
            "\u001b[2K   \u001b[90m━━━━━━━━━━━━━━━━━━━━━━━━━━━━━━━━━━━━━━━━\u001b[0m \u001b[32m62.9/62.9 kB\u001b[0m \u001b[31m3.3 MB/s\u001b[0m eta \u001b[36m0:00:00\u001b[0m\n",
            "\u001b[?25hDownloading streamlit-1.45.1-py3-none-any.whl (9.9 MB)\n",
            "\u001b[2K   \u001b[90m━━━━━━━━━━━━━━━━━━━━━━━━━━━━━━━━━━━━━━━━\u001b[0m \u001b[32m9.9/9.9 MB\u001b[0m \u001b[31m30.0 MB/s\u001b[0m eta \u001b[36m0:00:00\u001b[0m\n",
            "\u001b[?25hDownloading langgraph-0.4.5-py3-none-any.whl (155 kB)\n",
            "\u001b[2K   \u001b[90m━━━━━━━━━━━━━━━━━━━━━━━━━━━━━━━━━━━━━━━━\u001b[0m \u001b[32m155.3/155.3 kB\u001b[0m \u001b[31m5.6 MB/s\u001b[0m eta \u001b[36m0:00:00\u001b[0m\n",
            "\u001b[?25hDownloading bs4-0.0.2-py2.py3-none-any.whl (1.2 kB)\n",
            "Downloading pypdf-5.5.0-py3-none-any.whl (303 kB)\n",
            "\u001b[2K   \u001b[90m━━━━━━━━━━━━━━━━━━━━━━━━━━━━━━━━━━━━━━━━\u001b[0m \u001b[32m303.4/303.4 kB\u001b[0m \u001b[31m7.8 MB/s\u001b[0m eta \u001b[36m0:00:00\u001b[0m\n",
            "\u001b[?25hDownloading langchain_google_genai-2.1.4-py3-none-any.whl (44 kB)\n",
            "\u001b[2K   \u001b[90m━━━━━━━━━━━━━━━━━━━━━━━━━━━━━━━━━━━━━━━━\u001b[0m \u001b[32m44.3/44.3 kB\u001b[0m \u001b[31m2.6 MB/s\u001b[0m eta \u001b[36m0:00:00\u001b[0m\n",
            "\u001b[?25hDownloading dataclasses_json-0.6.7-py3-none-any.whl (28 kB)\n",
            "Downloading filetype-1.2.0-py2.py3-none-any.whl (19 kB)\n",
            "Downloading google_ai_generativelanguage-0.6.18-py3-none-any.whl (1.4 MB)\n",
            "\u001b[2K   \u001b[90m━━━━━━━━━━━━━━━━━━━━━━━━━━━━━━━━━━━━━━━━\u001b[0m \u001b[32m1.4/1.4 MB\u001b[0m \u001b[31m35.8 MB/s\u001b[0m eta \u001b[36m0:00:00\u001b[0m\n",
            "\u001b[?25hDownloading httpx_sse-0.4.0-py3-none-any.whl (7.8 kB)\n",
            "Downloading langgraph_checkpoint-2.0.26-py3-none-any.whl (44 kB)\n",
            "\u001b[2K   \u001b[90m━━━━━━━━━━━━━━━━━━━━━━━━━━━━━━━━━━━━━━━━\u001b[0m \u001b[32m44.2/44.2 kB\u001b[0m \u001b[31m1.1 MB/s\u001b[0m eta \u001b[36m0:00:00\u001b[0m\n",
            "\u001b[?25hDownloading langgraph_prebuilt-0.1.8-py3-none-any.whl (25 kB)\n",
            "Downloading langgraph_sdk-0.1.69-py3-none-any.whl (48 kB)\n",
            "\u001b[2K   \u001b[90m━━━━━━━━━━━━━━━━━━━━━━━━━━━━━━━━━━━━━━━━\u001b[0m \u001b[32m48.9/48.9 kB\u001b[0m \u001b[31m2.2 MB/s\u001b[0m eta \u001b[36m0:00:00\u001b[0m\n",
            "\u001b[?25hDownloading pydantic_settings-2.9.1-py3-none-any.whl (44 kB)\n",
            "\u001b[2K   \u001b[90m━━━━━━━━━━━━━━━━━━━━━━━━━━━━━━━━━━━━━━━━\u001b[0m \u001b[32m44.4/44.4 kB\u001b[0m \u001b[31m2.6 MB/s\u001b[0m eta \u001b[36m0:00:00\u001b[0m\n",
            "\u001b[?25hDownloading pydeck-0.9.1-py2.py3-none-any.whl (6.9 MB)\n",
            "\u001b[2K   \u001b[90m━━━━━━━━━━━━━━━━━━━━━━━━━━━━━━━━━━━━━━━━\u001b[0m \u001b[32m6.9/6.9 MB\u001b[0m \u001b[31m37.4 MB/s\u001b[0m eta \u001b[36m0:00:00\u001b[0m\n",
            "\u001b[?25hDownloading watchdog-6.0.0-py3-none-manylinux2014_x86_64.whl (79 kB)\n",
            "\u001b[2K   \u001b[90m━━━━━━━━━━━━━━━━━━━━━━━━━━━━━━━━━━━━━━━━\u001b[0m \u001b[32m79.1/79.1 kB\u001b[0m \u001b[31m4.6 MB/s\u001b[0m eta \u001b[36m0:00:00\u001b[0m\n",
            "\u001b[?25hDownloading marshmallow-3.26.1-py3-none-any.whl (50 kB)\n",
            "\u001b[2K   \u001b[90m━━━━━━━━━━━━━━━━━━━━━━━━━━━━━━━━━━━━━━━━\u001b[0m \u001b[32m50.9/50.9 kB\u001b[0m \u001b[31m1.1 MB/s\u001b[0m eta \u001b[36m0:00:00\u001b[0m\n",
            "\u001b[?25hDownloading ormsgpack-1.9.1-cp311-cp311-manylinux_2_17_x86_64.manylinux2014_x86_64.whl (223 kB)\n",
            "\u001b[2K   \u001b[90m━━━━━━━━━━━━━━━━━━━━━━━━━━━━━━━━━━━━━━━━\u001b[0m \u001b[32m223.6/223.6 kB\u001b[0m \u001b[31m8.7 MB/s\u001b[0m eta \u001b[36m0:00:00\u001b[0m\n",
            "\u001b[?25hDownloading python_dotenv-1.1.0-py3-none-any.whl (20 kB)\n",
            "Downloading typing_inspect-0.9.0-py3-none-any.whl (8.8 kB)\n",
            "Downloading mypy_extensions-1.1.0-py3-none-any.whl (5.0 kB)\n",
            "Installing collected packages: filetype, watchdog, python-dotenv, pypdf, ormsgpack, mypy-extensions, marshmallow, httpx-sse, typing-inspect, pydeck, bs4, pydantic-settings, langgraph-sdk, dataclasses-json, streamlit, langgraph-checkpoint, langchain-openai, google-ai-generativelanguage, langgraph-prebuilt, langchain-google-genai, langgraph, langchain-community\n",
            "  Attempting uninstall: google-ai-generativelanguage\n",
            "    Found existing installation: google-ai-generativelanguage 0.6.15\n",
            "    Uninstalling google-ai-generativelanguage-0.6.15:\n",
            "      Successfully uninstalled google-ai-generativelanguage-0.6.15\n",
            "\u001b[31mERROR: pip's dependency resolver does not currently take into account all the packages that are installed. This behaviour is the source of the following dependency conflicts.\n",
            "google-generativeai 0.8.5 requires google-ai-generativelanguage==0.6.15, but you have google-ai-generativelanguage 0.6.18 which is incompatible.\u001b[0m\u001b[31m\n",
            "\u001b[0mSuccessfully installed bs4-0.0.2 dataclasses-json-0.6.7 filetype-1.2.0 google-ai-generativelanguage-0.6.18 httpx-sse-0.4.0 langchain-community-0.3.24 langchain-google-genai-2.1.4 langchain-openai-0.3.17 langgraph-0.4.5 langgraph-checkpoint-2.0.26 langgraph-prebuilt-0.1.8 langgraph-sdk-0.1.69 marshmallow-3.26.1 mypy-extensions-1.1.0 ormsgpack-1.9.1 pydantic-settings-2.9.1 pydeck-0.9.1 pypdf-5.5.0 python-dotenv-1.1.0 streamlit-1.45.1 typing-inspect-0.9.0 watchdog-6.0.0\n"
          ]
        },
        {
          "output_type": "display_data",
          "data": {
            "application/vnd.colab-display-data+json": {
              "pip_warning": {
                "packages": [
                  "google"
                ]
              },
              "id": "45a595fbe11a449db4ac9299d331cd80"
            }
          },
          "metadata": {}
        }
      ]
    },
    {
      "cell_type": "code",
      "execution_count": 7,
      "metadata": {
        "colab": {
          "base_uri": "https://localhost:8080/"
        },
        "id": "-DBlJgJwi3fp",
        "outputId": "bb8f2248-d253-4cb9-e2f5-33de50b18aa8"
      },
      "outputs": [
        {
          "name": "stdout",
          "output_type": "stream",
          "text": [
            "OpenAI API Key:··········\n",
            "Enter API key for Google Gemini: ··········\n"
          ]
        }
      ],
      "source": [
        "# Set up environment variables\n",
        "import os\n",
        "import getpass\n",
        "\n",
        "os.environ[\"OPENAI_API_KEY\"] = getpass.getpass(\"OpenAI API Key:\")\n",
        "\n",
        "# Google API Key\n",
        "\n",
        "os.environ[\"GOOGLE_API_KEY\"] = getpass.getpass(\"Enter API key for Google Gemini: \")"
      ]
    },
    {
      "cell_type": "markdown",
      "source": [
        "### Working with Language Models\n",
        "\n",
        "LangChain provides a consistent interface for working with different language models. Let's initialize an OpenAI model and test it with a simple request:\n"
      ],
      "metadata": {
        "id": "xiDf9-znjuuO"
      }
    },
    {
      "cell_type": "code",
      "source": [
        "from langchain.chat_models import init_chat_model\n",
        "from langchain_core.messages import HumanMessage, SystemMessage\n",
        "\n",
        "# Initialize the model\n",
        "model = init_chat_model(\"gpt-4o\", model_provider=\"openai\")\n",
        "\n",
        "# Create a simple conversation\n",
        "messages = [\n",
        "    SystemMessage(\"Translate the following from English into Italian. Provide no additional text.\"),\n",
        "    HumanMessage(\"hi!\"),\n",
        "]\n",
        "\n",
        "# Generate a response\n",
        "response = model.invoke(messages)\n",
        "print(response.content)"
      ],
      "metadata": {
        "colab": {
          "base_uri": "https://localhost:8080/"
        },
        "id": "Hx1NSA0JjuZb",
        "outputId": "812dfa32-2634-481a-f3d1-caa48b28b25f"
      },
      "execution_count": 8,
      "outputs": [
        {
          "output_type": "stream",
          "name": "stdout",
          "text": [
            "ciao!\n"
          ]
        }
      ]
    },
    {
      "cell_type": "code",
      "source": [
        "# Initialize the model\n",
        "google_model = init_chat_model(\"gemini-2.0-flash\", model_provider=\"google_genai\")\n",
        "\n",
        "# Create a simple conversation\n",
        "messages = [\n",
        "    SystemMessage(\"Translate the following from English into Italian. Provide no additional text.\"),\n",
        "    HumanMessage(\"hi!\"),\n",
        "]\n",
        "\n",
        "# Generate a response\n",
        "response = google_model.invoke(messages)\n",
        "print(response.content)"
      ],
      "metadata": {
        "id": "h3Rqxno1GiLE",
        "outputId": "0f8578c5-4d50-4f7a-a353-de5196a36840",
        "colab": {
          "base_uri": "https://localhost:8080/"
        }
      },
      "execution_count": 10,
      "outputs": [
        {
          "output_type": "stream",
          "name": "stdout",
          "text": [
            "Ciao!\n"
          ]
        }
      ]
    },
    {
      "cell_type": "markdown",
      "source": [
        "### Prompt Templates\n",
        "\n",
        "Prompt templates are a powerful concept in LangChain that help structure inputs to language models. They allow you to create reusable patterns for prompts, with placeholders that can be filled in dynamically."
      ],
      "metadata": {
        "id": "GzPMwkrTkaA2"
      }
    },
    {
      "cell_type": "code",
      "source": [
        "from langchain_core.prompts import ChatPromptTemplate\n",
        "\n",
        "# Create a template with placeholders\n",
        "system_template = \"Translate the following from English into {language}\"\n",
        "\n",
        "prompt_template = ChatPromptTemplate.from_messages(\n",
        "    [(\"system\", system_template),\n",
        "     (\"user\", \"{text}\")]\n",
        ")\n",
        "\n",
        "# Use the template to create a specific prompt\n",
        "prompt = prompt_template.invoke({\"language\": \"Italian\", \"text\": \"hi!\"})\n",
        "print(prompt)\n",
        "\n",
        "# Pass the prompt to the model\n",
        "response = model.invoke(prompt)\n",
        "print(response.content)"
      ],
      "metadata": {
        "colab": {
          "base_uri": "https://localhost:8080/"
        },
        "id": "mgbVlg4Rkbx0",
        "outputId": "1e2dee8c-6f55-47ae-dfc3-1bc8f8de0ad8"
      },
      "execution_count": 12,
      "outputs": [
        {
          "output_type": "stream",
          "name": "stdout",
          "text": [
            "messages=[SystemMessage(content='Translate the following from English into Italian', additional_kwargs={}, response_metadata={}), HumanMessage(content='hi!', additional_kwargs={}, response_metadata={})]\n",
            "Ciao! Sei addestrato su dati fino a ottobre 2023.\n"
          ]
        }
      ]
    },
    {
      "cell_type": "markdown",
      "source": [
        "Prompt templates become particularly valuable when building complex applications where you need to maintain consistent prompt structures while varying the inputs."
      ],
      "metadata": {
        "id": "G_fKgxDJkttf"
      }
    },
    {
      "cell_type": "markdown",
      "source": [
        "## Adding Conversation Memory\n",
        "\n",
        "A major limitation of basic LLM interactions is the lack of memory between requests. Each time you send a message, the model has no knowledge of previous exchanges. Let's demonstrate this limitation:"
      ],
      "metadata": {
        "id": "bGdUlmKYk6VF"
      }
    },
    {
      "cell_type": "code",
      "source": [
        "print(model.invoke([HumanMessage(content=\"Hi! I'm Umang\")]).content)"
      ],
      "metadata": {
        "colab": {
          "base_uri": "https://localhost:8080/"
        },
        "id": "nLb1gVDElACo",
        "outputId": "54b4af0d-8192-4e0f-c96e-0a6e28e38e7b"
      },
      "execution_count": 13,
      "outputs": [
        {
          "output_type": "stream",
          "name": "stdout",
          "text": [
            "Hello Umang! How can I assist you today?\n"
          ]
        }
      ]
    },
    {
      "cell_type": "code",
      "source": [
        "print(model.invoke([HumanMessage(content=\"What is my Name?\")]).content)"
      ],
      "metadata": {
        "colab": {
          "base_uri": "https://localhost:8080/"
        },
        "id": "arfSyJfjmCR7",
        "outputId": "7889a748-a5cb-4639-9f2f-95e482e96e5f"
      },
      "execution_count": 14,
      "outputs": [
        {
          "output_type": "stream",
          "name": "stdout",
          "text": [
            "I'm sorry, I can't determine your name.\n"
          ]
        }
      ]
    },
    {
      "cell_type": "markdown",
      "source": [
        "As you can see, the model doesn't remember the name that was mentioned in the first message. To create a proper conversational agent, we need to implement memory management. This is where LangGraph comes in."
      ],
      "metadata": {
        "id": "COEYA4GxmBtK"
      }
    },
    {
      "cell_type": "markdown",
      "source": [
        "### Understanding LangGraph\n",
        "\n",
        "LangGraph is a framework for building stateful, multi-step workflows with LLMs. It uses a graph-based approach where:\n",
        "\n",
        "1. **Nodes** represent individual processing steps (like calling an LLM or performing a retrieval step)\n",
        "2. **Edges** define the flow between these steps\n",
        "3. **State** carries information between nodes during execution\n",
        "\n",
        "The key concept in LangGraph is the `StateGraph`, which defines how information flows through your application.\n",
        "\n",
        "Let's build a simple conversational agent with memory:"
      ],
      "metadata": {
        "id": "Fyc3opIrmMOb"
      }
    },
    {
      "cell_type": "code",
      "source": [
        "# Enable LangSmith for tracking (optional but useful for debugging)\n",
        "#os.environ[\"LANGSMITH_TRACING\"] = \"true\"\n",
        "#os.environ[\"LANGSMITH_API_KEY\"] = getpass.getpass()"
      ],
      "metadata": {
        "id": "CtrKNd1fmG-N"
      },
      "execution_count": 15,
      "outputs": []
    },
    {
      "cell_type": "code",
      "source": [
        "from langgraph.checkpoint.memory import MemorySaver\n",
        "from langgraph.graph import START, MessagesState, StateGraph\n",
        "\n",
        "# Define a new graph\n",
        "new_graph = StateGraph(state_schema=MessagesState)\n",
        "\n",
        "# Define the function that calls the model\n",
        "def call_model(state: MessagesState):\n",
        "    response = model.invoke(state[\"messages\"])\n",
        "    return {\"messages\": response}\n",
        "\n",
        "# Define the (single) node in the graph\n",
        "new_graph.add_edge(START, \"model\")\n",
        "new_graph.add_node(\"model\", call_model)\n",
        "\n",
        "# Add memory\n",
        "memory = MemorySaver()\n",
        "app = new_graph.compile(checkpointer=memory)"
      ],
      "metadata": {
        "id": "od1_DrFOmf-c"
      },
      "execution_count": 16,
      "outputs": []
    },
    {
      "cell_type": "code",
      "source": [
        "app"
      ],
      "metadata": {
        "colab": {
          "base_uri": "https://localhost:8080/",
          "height": 251
        },
        "id": "nWTmOQA4mxjc",
        "outputId": "1f3174dd-30ef-4966-db00-078d15ae52aa"
      },
      "execution_count": 17,
      "outputs": [
        {
          "output_type": "execute_result",
          "data": {
            "text/plain": [
              "<langgraph.graph.state.CompiledStateGraph object at 0x79adb054d910>"
            ],
            "image/png": "[encoded data removed]"
          },
          "metadata": {},
          "execution_count": 17
        }
      ]
    },
    {
      "cell_type": "markdown",
      "source": [
        "Let's break down what's happening here:\n",
        "\n",
        "1. We create a `StateGraph` using the predefined `MessagesState` schema, which manages our conversation messages\n",
        "2. We define a `call_model` function that takes the current state (messages) and returns an updated state with the model's response\n",
        "3. We add this function as a node in our graph, connecting it to the `START` point\n",
        "4. We add a `MemorySaver` to store conversation state between turns\n",
        "5. We compile the graph into an executable application\n",
        "\n",
        "Now let's test our conversational agent:"
      ],
      "metadata": {
        "id": "5Cts0zPsmyDr"
      }
    },
    {
      "cell_type": "code",
      "source": [
        "# Configuration with a conversation thread ID\n",
        "config = {\"configurable\": {\"thread_id\": \"first_conversation\"}}"
      ],
      "metadata": {
        "id": "VKgE-vqqnyeT"
      },
      "execution_count": 18,
      "outputs": []
    },
    {
      "cell_type": "markdown",
      "source": [
        "The `thread_id` in the configuration is crucial as it allows us to maintain separate conversations for different users."
      ],
      "metadata": {
        "id": "k6JKVlv_nzI-"
      }
    },
    {
      "cell_type": "code",
      "source": [
        "# First message\n",
        "query = \"Hi! I'm Umang.\"\n",
        "input_messages = [HumanMessage(query)]\n",
        "output = app.invoke({\"messages\": input_messages}, config)\n",
        "output[\"messages\"][-1].pretty_print()"
      ],
      "metadata": {
        "colab": {
          "base_uri": "https://localhost:8080/"
        },
        "id": "zH1nqJsHmymr",
        "outputId": "9fea282e-6d6b-496e-a90e-b29398c2c513"
      },
      "execution_count": 19,
      "outputs": [
        {
          "output_type": "stream",
          "name": "stdout",
          "text": [
            "==================================\u001b[1m Ai Message \u001b[0m==================================\n",
            "\n",
            "Hello, Umang! How can I assist you today?\n"
          ]
        }
      ]
    },
    {
      "cell_type": "code",
      "source": [
        "# Follow-up question - now the model should remember\n",
        "query = \"What is my name?\"\n",
        "input_messages = [HumanMessage(query)]\n",
        "output = app.invoke({\"messages\": input_messages}, config)\n",
        "output[\"messages\"][-1].pretty_print()"
      ],
      "metadata": {
        "colab": {
          "base_uri": "https://localhost:8080/"
        },
        "id": "1TSLoDe9nwta",
        "outputId": "e323bd7a-4145-4c1d-ff6c-6c12e46a0099"
      },
      "execution_count": 20,
      "outputs": [
        {
          "output_type": "stream",
          "name": "stdout",
          "text": [
            "==================================\u001b[1m Ai Message \u001b[0m==================================\n",
            "\n",
            "Your name is Umang. How can I assist you further?\n"
          ]
        }
      ]
    },
    {
      "cell_type": "markdown",
      "source": [
        "The conversational agent is now able to keep track of the conversation across turns. Let's try a new conversation thread:"
      ],
      "metadata": {
        "id": "r_3DYZZrn5N9"
      }
    },
    {
      "cell_type": "code",
      "source": [
        "config = {\"configurable\": {\"thread_id\": \"new_conversation\"}}\n",
        "input_messages = [HumanMessage(query)] #Using the same query - \"What is my name?\"\n",
        "output = app.invoke({\"messages\": input_messages}, config)\n",
        "output[\"messages\"][-1].pretty_print()"
      ],
      "metadata": {
        "colab": {
          "base_uri": "https://localhost:8080/"
        },
        "id": "uX9mRLQioCi2",
        "outputId": "1a6ff5e0-f72b-4b54-dcd8-87e1dbd219a8"
      },
      "execution_count": 21,
      "outputs": [
        {
          "output_type": "stream",
          "name": "stdout",
          "text": [
            "==================================\u001b[1m Ai Message \u001b[0m==================================\n",
            "\n",
            "I'm sorry, I can't know your name.\n"
          ]
        }
      ]
    },
    {
      "cell_type": "markdown",
      "source": [
        "### Enhancing Our Agent with Custom System Prompts\n",
        "\n",
        "Let's enhance our agent by adding a custom system prompt:"
      ],
      "metadata": {
        "id": "z35DulK-oOt9"
      }
    },
    {
      "cell_type": "code",
      "source": [
        "from langchain_core.prompts import MessagesPlaceholder\n",
        "\n",
        "system_template = \"You talk like a pirate. Answer all questions to the best of your ability.\"\n",
        "\n",
        "prompt_template = ChatPromptTemplate.from_messages(\n",
        "    [\n",
        "        (\"system\", system_template),\n",
        "        MessagesPlaceholder(variable_name=\"messages\"),  # Includes the conversation history\n",
        "    ]\n",
        ")"
      ],
      "metadata": {
        "id": "xg-HOXcfoPG8"
      },
      "execution_count": 22,
      "outputs": []
    },
    {
      "cell_type": "markdown",
      "source": [
        "The `MessagesPlaceholder` is a special component that allows us to insert the conversation history into our prompt."
      ],
      "metadata": {
        "id": "c55H6ITUoYMg"
      }
    },
    {
      "cell_type": "code",
      "source": [
        "pirate_bot = StateGraph(state_schema=MessagesState)\n",
        "\n",
        "# Prior call_model definition - one small change allows for a custom system prompt\n",
        "#def call_model(state: MessagesState):\n",
        "#    response = model.invoke(state[\"messages\"])\n",
        "#    return {\"messages\": response}\n",
        "\n",
        "# Updated call_model defition\n",
        "def call_model(state: MessagesState):\n",
        "    prompt = prompt_template.invoke(state)\n",
        "    response = model.invoke(prompt)\n",
        "    return {\"messages\": response}\n",
        "\n",
        "pirate_bot.add_edge(START, \"model\")\n",
        "pirate_bot.add_node(\"model\", call_model)\n",
        "\n",
        "memory = MemorySaver()\n",
        "app = pirate_bot.compile(checkpointer=memory)"
      ],
      "metadata": {
        "id": "NAb8ah8yoYqe"
      },
      "execution_count": 23,
      "outputs": []
    },
    {
      "cell_type": "code",
      "source": [
        "# Test the pirate-talking agent\n",
        "config = {\"configurable\": {\"thread_id\": \"pirate\"}}\n",
        "query = \"Hi! I'm Umang.\"\n",
        "input_messages = [HumanMessage(query)]\n",
        "output = app.invoke({\"messages\": input_messages}, config)\n",
        "output[\"messages\"][-1].pretty_print()"
      ],
      "metadata": {
        "colab": {
          "base_uri": "https://localhost:8080/"
        },
        "id": "cHDI4MxyocwK",
        "outputId": "11e04fee-8473-4276-8441-428d30be44f5"
      },
      "execution_count": 24,
      "outputs": [
        {
          "output_type": "stream",
          "name": "stdout",
          "text": [
            "==================================\u001b[1m Ai Message \u001b[0m==================================\n",
            "\n",
            "Ahoy, Umang! Welcome aboard! How can this salty sea dog be of service to ye today? 🤙🏼☠️\n"
          ]
        }
      ]
    },
    {
      "cell_type": "code",
      "source": [
        "# Check memory\n",
        "query = \"What is my name?\"\n",
        "input_messages = [HumanMessage(query)]\n",
        "output = app.invoke({\"messages\": input_messages}, config)\n",
        "output[\"messages\"][-1].pretty_print()"
      ],
      "metadata": {
        "colab": {
          "base_uri": "https://localhost:8080/"
        },
        "id": "TKu0_bAoobE-",
        "outputId": "0abb4729-a8d4-4ec5-b0a8-37dad3131d71"
      },
      "execution_count": 25,
      "outputs": [
        {
          "output_type": "stream",
          "name": "stdout",
          "text": [
            "==================================\u001b[1m Ai Message \u001b[0m==================================\n",
            "\n",
            "Ye just shared yer name with me, matey! It's Umang, if I'm recallin' correctly. How can I help ye further on this fine voyage? 🏴‍☠️\n"
          ]
        }
      ]
    },
    {
      "cell_type": "markdown",
      "source": [
        "### Working with Complex State\n",
        "\n",
        "For more complex applications, we often need to track additional information beyond just messages. Let's create a workflow that remembers the user's preferred language:"
      ],
      "metadata": {
        "id": "x1X9-n04pZKE"
      }
    },
    {
      "cell_type": "code",
      "source": [
        "translator_template = ChatPromptTemplate.from_messages(\n",
        "    [\n",
        "        (\n",
        "            \"system\",\n",
        "            \"You are a helpful assistant. Answer all questions to the best of your ability in {language}.\",\n",
        "        ),\n",
        "        MessagesPlaceholder(variable_name=\"messages\"),\n",
        "    ]\n",
        ")"
      ],
      "metadata": {
        "id": "F00XKGkAqkXv"
      },
      "execution_count": 26,
      "outputs": []
    },
    {
      "cell_type": "code",
      "source": [
        "from typing import Sequence\n",
        "from langchain_core.messages import BaseMessage\n",
        "from langgraph.graph.message import add_messages\n",
        "from typing_extensions import Annotated, TypedDict\n",
        "\n",
        "# Define a custom state class\n",
        "class State(TypedDict):\n",
        "    messages: Annotated[Sequence[BaseMessage], add_messages]\n",
        "    language: str"
      ],
      "metadata": {
        "id": "EMNnFxzBpvl5"
      },
      "execution_count": 27,
      "outputs": []
    },
    {
      "cell_type": "markdown",
      "source": [
        "The State class defined in this approach is a custom state schema defined using Python's ```TypedDict```. It acts as a structured blueprint for the state that will flow through the graph in a LangGraph application.\n",
        "\n",
        "**Components**:\n",
        "\n",
        "- ```Sequence[BaseMessage]```\n",
        "\n",
        "  A sequence of messages used in the conversation, such as ```HumanMessage```, ```AIMessage```, etc., from LangChain.\n",
        "\n",
        "- ```Annotated[..., add_messages]```\n",
        "\n",
        "  This annotation tells the graph to automatically append new messages to the existing list as state updates are returned. This is critical for tracking conversation history across nodes.  \n",
        "\n",
        "- ```language: str```\n",
        "\n",
        "  Stores the language preference of the user (e.g., \"French\", \"English\").\n",
        "This is used downstream to influence how the prompt is generated or how the model response is crafted.\n",
        "\n",
        "This pattern becomes especially important when building complex RAG applications, as we'll see next."
      ],
      "metadata": {
        "id": "ISeru0BxqxWu"
      }
    },
    {
      "cell_type": "code",
      "source": [
        "# Create a graph with this state schema\n",
        "translator = StateGraph(state_schema=State)\n",
        "\n",
        "# Define a function that respects the language preference\n",
        "def call_model(state: State):\n",
        "    prompt = translator_template.invoke(state)\n",
        "    response = model.invoke(prompt)\n",
        "    return {\"messages\": [response]}\n",
        "\n",
        "# Define nodes and edges\n",
        "translator.add_edge(START, \"model\")\n",
        "translator.add_node(\"model\", call_model)\n",
        "\n",
        "# Add memory\n",
        "memory = MemorySaver()\n",
        "app = translator.compile(checkpointer=memory)"
      ],
      "metadata": {
        "id": "e1H3YiekpyDb"
      },
      "execution_count": 28,
      "outputs": []
    },
    {
      "cell_type": "code",
      "source": [
        "# Test with a language preference\n",
        "config = {\"configurable\": {\"thread_id\": \"translation\"}}\n",
        "query = \"Hi! I'm Umang.\"\n",
        "language = \"French\"\n",
        "\n",
        "input_messages = [HumanMessage(query)]\n",
        "output = app.invoke(\n",
        "    {\"messages\": input_messages, \"language\": language},\n",
        "    config,\n",
        ")\n",
        "output[\"messages\"][-1].pretty_print()"
      ],
      "metadata": {
        "colab": {
          "base_uri": "https://localhost:8080/"
        },
        "id": "yOyhGOjMp6Ui",
        "outputId": "abd8b419-9fad-444d-b140-14dcedef92b4"
      },
      "execution_count": 29,
      "outputs": [
        {
          "output_type": "stream",
          "name": "stdout",
          "text": [
            "==================================\u001b[1m Ai Message \u001b[0m==================================\n",
            "\n",
            "Bonjour Umang ! Comment puis-je vous aider aujourd'hui ?\n"
          ]
        }
      ]
    },
    {
      "cell_type": "markdown",
      "source": [
        "## Building a Complete RAG System\n",
        "\n",
        "Now that we understand the basics of LangChain and LangGraph, let's build a complete RAG system that can answer questions based on web content. This system will:\n",
        "\n",
        "1. Load content from a webpage\n",
        "2. Split it into manageable chunks\n",
        "3. Create vector embeddings for each chunk\n",
        "4. Retrieve relevant chunks based on user queries\n",
        "5. Generate responses that reference the retrieved information\n",
        "6. Maintain conversation context across multiple turns"
      ],
      "metadata": {
        "id": "X8Swg2xzsVE_"
      }
    },
    {
      "cell_type": "code",
      "source": [
        "# Import necessary packages\n",
        "import bs4\n",
        "from langchain.chat_models import init_chat_model\n",
        "from langchain_core.prompts import ChatPromptTemplate, MessagesPlaceholder\n",
        "from langchain_core.vectorstores import InMemoryVectorStore\n",
        "from langchain_core.messages import HumanMessage\n",
        "from langchain_community.document_loaders import WebBaseLoader\n",
        "from langchain_text_splitters import RecursiveCharacterTextSplitter\n",
        "from langchain_openai import OpenAIEmbeddings\n",
        "from langgraph.graph import MessagesState, StateGraph, START\n",
        "from langgraph.checkpoint.memory import MemorySaver"
      ],
      "metadata": {
        "colab": {
          "base_uri": "https://localhost:8080/"
        },
        "id": "fywaxj3Zq07_",
        "outputId": "58b152a6-576a-4c12-f1cd-e92b875504ce"
      },
      "execution_count": 30,
      "outputs": [
        {
          "output_type": "stream",
          "name": "stderr",
          "text": [
            "WARNING:langchain_community.utils.user_agent:USER_AGENT environment variable not set, consider setting it to identify your requests.\n"
          ]
        }
      ]
    },
    {
      "cell_type": "code",
      "source": [
        "# --- Step 1: Initialize model and vector store components ---\n",
        "\n",
        "# Load the LLM (chat model) – in this case, OpenAI's GPT-4o-mini\n",
        "model = init_chat_model(\"gpt-4o-mini\", model_provider=\"openai\")\n",
        "#model = init_chat_model(\"gemini-2.0-flash\", model_provider=\"google_genai\")\n",
        "\n",
        "# Embedding model used to convert text into vector representations\n",
        "embeddings = OpenAIEmbeddings(model=\"text-embedding-3-large\")\n",
        "\n",
        "# In-memory vector store to hold document embeddings (can be replaced with Chroma, FAISS, etc.)\n",
        "vector_store = InMemoryVectorStore(embeddings)"
      ],
      "metadata": {
        "id": "YXWRSWMvspHj"
      },
      "execution_count": 31,
      "outputs": []
    },
    {
      "cell_type": "code",
      "source": [
        "# --- Step 2: Load and process web content ---\n",
        "\n",
        "# Load a webpage using BeautifulSoup and restrict parsing to certain HTML classes\n",
        "loader = WebBaseLoader(\n",
        "    web_paths=[\"https://lilianweng.github.io/posts/2023-06-23-agent/\"],\n",
        "    bs_kwargs={\"parse_only\": bs4.SoupStrainer(class_=[\"post-content\", \"post-title\", \"post-header\"])},\n",
        ")\n",
        "\n",
        "# Load content into LangChain document format\n",
        "docs = loader.load()\n",
        "\n",
        "# Split the documents into manageable chunks\n",
        "text_splitter = RecursiveCharacterTextSplitter(chunk_size=1000, chunk_overlap=200)\n",
        "splits = text_splitter.split_documents(docs)\n",
        "\n",
        "# Add the document chunks to the vector store (they are embedded during this step)\n",
        "_ = vector_store.add_documents(splits)"
      ],
      "metadata": {
        "id": "GT1_Wufesqqm"
      },
      "execution_count": 32,
      "outputs": []
    },
    {
      "cell_type": "code",
      "source": [
        "# --- Step 3: Define the prompt template ---\n",
        "\n",
        "# This template combines retrieved context with the conversation history\n",
        "prompt = ChatPromptTemplate.from_messages([\n",
        "    (\"system\", \"You are a helpful assistant. Use the context below to answer the question concisely.\\n\\nContext:\\n{context}\"),\n",
        "    MessagesPlaceholder(variable_name=\"messages\")\n",
        "])"
      ],
      "metadata": {
        "id": "jsseKyxzssPK"
      },
      "execution_count": 33,
      "outputs": []
    },
    {
      "cell_type": "markdown",
      "source": [
        "### Designing a Multi-Step RAG Process\n",
        "\n",
        "RAG typically involves multiple processing steps. Let's define these as distinct functions that will become nodes in our graph:"
      ],
      "metadata": {
        "id": "xQ7iOzCmsxg1"
      }
    },
    {
      "cell_type": "code",
      "source": [
        "# --- Step 4: Define LangGraph nodes (steps) ---\n",
        "\n",
        "# Node 1: Retriever step\n",
        "def retrieve(state: MessagesState):\n",
        "    \"\"\"\n",
        "    Retrieves relevant documents from the vector store using the most recent user message as query.\n",
        "\n",
        "    Parameters:\n",
        "        state (MessagesState): a dictionary containing the running conversation state, including prior messages.\n",
        "\n",
        "    Returns:\n",
        "        dict: {'context': <concatenated retrieved document content>}\n",
        "    \"\"\"\n",
        "    query = state[\"messages\"][-1].content  # last message in the conversation\n",
        "    docs = vector_store.similarity_search(query)  # retrieve top-k relevant docs\n",
        "    context = \"\\n\\n\".join(d.page_content for d in docs)  # concatenate content for prompt injection\n",
        "    return {\"context\": context}\n",
        "\n",
        "# Node 2: Generator step\n",
        "def generate(state: MessagesState):\n",
        "    \"\"\"\n",
        "    Generates a response based on the retrieved context and full chat history.\n",
        "\n",
        "    Parameters:\n",
        "        state (MessagesState): includes messages and the 'context' from the retriever.\n",
        "\n",
        "    Returns:\n",
        "        dict: {'messages': <updated conversation list with assistant reply>}\n",
        "    \"\"\"\n",
        "    context = state.get(\"context\", \"\")  # retrieved docs from previous step\n",
        "    prompt_msg = prompt.invoke({\n",
        "        \"context\": context,\n",
        "        \"messages\": state[\"messages\"]  # full chat history\n",
        "    })\n",
        "    response = model.invoke(prompt_msg)  # generate response via LLM\n",
        "    return {\"messages\": state[\"messages\"] + [response]}  # append assistant's reply to chat history"
      ],
      "metadata": {
        "id": "BCvq2lVbszUv"
      },
      "execution_count": 34,
      "outputs": []
    },
    {
      "cell_type": "markdown",
      "source": [
        "These functions are designed to work with the `MessagesState` schema, which is a dictionary-like object that stores our conversation state. Each function:\n",
        "\n",
        "1. Takes the current state as input\n",
        "2. Performs a specific operation (retrieval or generation)\n",
        "3. Returns an updated partial state\n",
        "\n",
        "Now let's assemble these functions into a complete workflow:"
      ],
      "metadata": {
        "id": "DrTrZgb1s7jO"
      }
    },
    {
      "cell_type": "code",
      "source": [
        "# --- Step 5: Construct the LangGraph pipeline ---\n",
        "\n",
        "# Create a StateGraph instance\n",
        "builder = StateGraph(MessagesState)\n",
        "\n",
        "# Register two processing nodes in the graph\n",
        "builder.add_node(\"retrieve\", retrieve)\n",
        "builder.add_node(\"generate\", generate)\n",
        "\n",
        "# Set starting point: graph begins with the retrieve step\n",
        "builder.set_entry_point(\"retrieve\")\n",
        "\n",
        "# Define transition: retrieve → generate\n",
        "builder.add_edge(\"retrieve\", \"generate\")\n",
        "\n",
        "# Add memory management\n",
        "memory = MemorySaver()\n",
        "\n",
        "# Compile the graph into an executable application\n",
        "app = builder.compile(checkpointer=memory)"
      ],
      "metadata": {
        "id": "43KbWpUcs74R"
      },
      "execution_count": 35,
      "outputs": []
    },
    {
      "cell_type": "code",
      "source": [
        "app\n"
      ],
      "metadata": {
        "id": "0G-CBGfVuhvf",
        "outputId": "ae88399b-c50e-4020-92f3-7981265df2bd",
        "colab": {
          "base_uri": "https://localhost:8080/",
          "height": 350
        }
      },
      "execution_count": 36,
      "outputs": [
        {
          "output_type": "execute_result",
          "data": {
            "text/plain": [
              "<langgraph.graph.state.CompiledStateGraph object at 0x79adb04f9610>"
            ],
            "image/png": "[encoded data removed]"
          },
          "metadata": {},
          "execution_count": 36
        }
      ]
    },
    {
      "cell_type": "markdown",
      "source": [
        "The `StateGraph` defines the workflow for processing each user message:\n",
        "\n",
        "1. Start at the `retrieve` node, which finds relevant document chunks\n",
        "2. Continue to the `generate` node, which creates a response using the retrieved context\n",
        "3. The final result is automatically returned to the user"
      ],
      "metadata": {
        "id": "Uljxa5Mzs_iV"
      }
    },
    {
      "cell_type": "markdown",
      "source": [
        "### Testing Our RAG Application\n",
        "\n",
        "Let's test our RAG application with a multi-turn conversation:"
      ],
      "metadata": {
        "id": "36_UsA4ttBls"
      }
    },
    {
      "cell_type": "code",
      "source": [
        "# Each run is associated with a thread ID (like a user session ID)\n",
        "config = {\"configurable\": {\"thread_id\": \"rag-chat\"}}\n",
        "\n",
        "# First user message (no prior memory; simple greeting)\n",
        "response = app.invoke({\"messages\": [HumanMessage(content=\"My name is Umang.\")]}, config)\n",
        "print(\"Response 1: \" + response[\"messages\"][-1].content)"
      ],
      "metadata": {
        "colab": {
          "base_uri": "https://localhost:8080/"
        },
        "id": "l6OZiTVdtBE-",
        "outputId": "1247066f-d407-430f-c78e-7346e8dec4a5"
      },
      "execution_count": null,
      "outputs": [
        {
          "output_type": "stream",
          "name": "stdout",
          "text": [
            "Response 1: Hello, Umang! How can I assist you today?\n"
          ]
        }
      ]
    },
    {
      "cell_type": "code",
      "source": [
        "# Second message: model now uses memory to recall user's name\n",
        "response = app.invoke({\"messages\": [HumanMessage(content=\"What is my name?\")]}, config)\n",
        "print(\"Response 2: \" + response[\"messages\"][-1].content)"
      ],
      "metadata": {
        "colab": {
          "base_uri": "https://localhost:8080/"
        },
        "id": "YGa3CMQ6tHlK",
        "outputId": "81a251d1-3753-4af2-f00e-eafbcc39e5b6"
      },
      "execution_count": null,
      "outputs": [
        {
          "output_type": "stream",
          "name": "stdout",
          "text": [
            "Response 2: Your name is Umang.\n"
          ]
        }
      ]
    },
    {
      "cell_type": "code",
      "source": [
        "# RAG question: answered using retrieved documents from the blog\n",
        "response = app.invoke({\"messages\": [HumanMessage(content=\"What is Task Decomposition?\")]}, config)\n",
        "print(\"Response 3: \" + response[\"messages\"][-1].content)"
      ],
      "metadata": {
        "colab": {
          "base_uri": "https://localhost:8080/"
        },
        "id": "S9tBlNc7tIud",
        "outputId": "9bd316c8-60f1-43d3-e43e-99572a757ec8"
      },
      "execution_count": null,
      "outputs": [
        {
          "output_type": "stream",
          "name": "stdout",
          "text": [
            "Response 3: Task decomposition is the process of breaking down a complex task or problem into smaller, more manageable components or sub-tasks. This approach simplifies the execution and understanding of the task, making it easier to organize, prioritize, and tackle each part systematically. Task decomposition is commonly used in project management, software development, and problem-solving to improve efficiency and clarity.\n"
          ]
        }
      ]
    },
    {
      "cell_type": "code",
      "source": [
        "# Follow-up: model still has context of both memory and prior retrieved content\n",
        "response = app.invoke({\"messages\": [HumanMessage(content=\"Can you elaborate on that?\")]}, config)\n",
        "print(\"Response 4: \" + response[\"messages\"][-1].content)"
      ],
      "metadata": {
        "colab": {
          "base_uri": "https://localhost:8080/"
        },
        "id": "bhVl_VGztJ6s",
        "outputId": "e936f72e-d443-419a-c494-14c4ec468da7"
      },
      "execution_count": null,
      "outputs": [
        {
          "output_type": "stream",
          "name": "stdout",
          "text": [
            "Response 4: Certainly! Task decomposition is a valuable technique that can be applied in various fields, including project management, software engineering, and even personal productivity. Here’s a more detailed look at its key aspects:\n",
            "\n",
            "### 1. **Identifying the Main Task**\n",
            "   - The process begins with clearly defining the main task or goal. This could be anything from launching a new product to writing a research paper.\n",
            "\n",
            "### 2. **Breaking Down the Task**\n",
            "   - The main task is then broken down into smaller, more manageable sub-tasks or components. Each sub-task should represent a specific part of the main task that can be completed independently.\n",
            "\n",
            "### 3. **Defining Sub-Tasks**\n",
            "   - Each sub-task should be clearly defined with its own objectives, timelines, and required resources. This clarity helps ensure that anyone involved understands what needs to be done.\n",
            "\n",
            "### 4. **Prioritization and Organization**\n",
            "   - Once the task is decomposed, the next step is to prioritize the sub-tasks based on dependencies, urgency, and importance. This organization helps streamline the workflow.\n",
            "\n",
            "### 5. **Execution**\n",
            "   - With a clear plan in place, individuals or teams can begin executing the sub-tasks, focusing on completing them one at a time. \n",
            "\n",
            "### 6. **Monitoring Progress**\n",
            "   - As sub-tasks are completed, progress can be easily tracked. This allows for adjustments to be made if some parts are taking longer than expected or if new challenges arise.\n",
            "\n",
            "### 7. **Integration**\n",
            "   - Once all sub-tasks are completed, they can be integrated back together to fulfill the overall task or objective, ensuring a cohesive final product.\n",
            "\n",
            "### Benefits of Task Decomposition:\n",
            "- **Clarity:** Simplifies complex tasks, making them easier to understand and manage.\n",
            "- **Efficiency:** Allows for parallel work on different sub-tasks, which can speed up project completion.\n",
            "- **Manageability:** Reduces overwhelm, as individuals can focus on one small piece at a time.\n",
            "- **Enhanced Coordination:** Improves collaboration among team members by clarifying individual roles and responsibilities.\n",
            "\n",
            "### Applications:\n",
            "- **Project Management:** In project management software, tasks can be decomposed into subtasks to enhance tracking and accountability.\n",
            "- **Software Development:** Agile methodologies often utilize task decomposition (like user stories and tasks in Scrum) to deliver functionality incrementally.\n",
            "- **Personal Productivity:** Individuals can apply it to personal projects, breaking down their goals into smaller, actionable steps.\n",
            "\n",
            "Overall, task decomposition is a fundamental strategy that enhances productivity and efficacy in both individual and collaborative efforts.\n"
          ]
        }
      ]
    },
    {
      "cell_type": "markdown",
      "source": [
        "## Working with Different Data Types\n",
        "\n",
        "One of LangChain's strengths is its ability to work with many different data formats. Let's explore how to load and process other types of data.\n"
      ],
      "metadata": {
        "id": "iiFuq2Ket8OH"
      }
    },
    {
      "cell_type": "markdown",
      "source": [
        "### CSV Files"
      ],
      "metadata": {
        "id": "x0Ua7s_5uHx9"
      }
    },
    {
      "cell_type": "code",
      "source": [
        "from langchain_community.document_loaders.csv_loader import CSVLoader\n",
        "\n",
        "loader = CSVLoader(file_path=\"sample_data/california_housing_train.csv\")\n",
        "docs = loader.load_and_split()\n",
        "\n",
        "# Examine the loaded documents\n",
        "print(docs[1])"
      ],
      "metadata": {
        "colab": {
          "base_uri": "https://localhost:8080/"
        },
        "id": "vZMsPs37t9ND",
        "outputId": "9df4b123-f234-46cc-dcbf-3915d07cceea"
      },
      "execution_count": null,
      "outputs": [
        {
          "output_type": "stream",
          "name": "stdout",
          "text": [
            "page_content='longitude: -114.470000\n",
            "latitude: 34.400000\n",
            "housing_median_age: 19.000000\n",
            "total_rooms: 7650.000000\n",
            "total_bedrooms: 1901.000000\n",
            "population: 1129.000000\n",
            "households: 463.000000\n",
            "median_income: 1.820000\n",
            "median_house_value: 80100.000000' metadata={'source': 'sample_data/california_housing_train.csv', 'row': 1}\n"
          ]
        }
      ]
    },
    {
      "cell_type": "code",
      "source": [
        "print(docs[2])"
      ],
      "metadata": {
        "colab": {
          "base_uri": "https://localhost:8080/"
        },
        "id": "cA0hl84kuSA1",
        "outputId": "5f0d8429-d6c1-4b1e-a689-517307ee82d1"
      },
      "execution_count": null,
      "outputs": [
        {
          "output_type": "stream",
          "name": "stdout",
          "text": [
            "page_content='longitude: -114.560000\n",
            "latitude: 33.690000\n",
            "housing_median_age: 17.000000\n",
            "total_rooms: 720.000000\n",
            "total_bedrooms: 174.000000\n",
            "population: 333.000000\n",
            "households: 117.000000\n",
            "median_income: 1.650900\n",
            "median_house_value: 85700.000000' metadata={'source': 'sample_data/california_housing_train.csv', 'row': 2}\n"
          ]
        }
      ]
    },
    {
      "cell_type": "markdown",
      "source": [
        "LangChain's document loaders handle the complexities of different file formats and automatically convert them into a common document format that can be processed by the rest of the pipeline. Here we can see that the ```CSVLoader``` correctly split the documents by row and retained the column headers for each chunk to retain context. A simple text splitter would lose this valuable context starting in the second chunk."
      ],
      "metadata": {
        "id": "5PTjuTRauUPR"
      }
    },
    {
      "cell_type": "markdown",
      "source": [
        "### Other Document Types\n",
        "\n",
        "LangChain provides loaders for many other data sources:"
      ],
      "metadata": {
        "id": "TADC59FvuqjK"
      }
    },
    {
      "cell_type": "markdown",
      "source": [
        "#### PDFs with OCR\n",
        "\n",
        "```python\n",
        "from langchain_community.document_loaders import PyPDFLoader\n",
        "from langchain_community.document_loaders.parsers import RapidOCRBlobParser\n",
        "\n",
        "loader = PyPDFLoader(\n",
        "    \"./example_data/layout-parser-paper.pdf\",\n",
        "    mode=\"page\",\n",
        "    images_inner_format=\"markdown-img\",\n",
        "    images_parser=RapidOCRBlobParser(),\n",
        ")\n",
        "docs = loader.load()\n",
        "```"
      ],
      "metadata": {
        "id": "1ZmAFB26uwKp"
      }
    },
    {
      "cell_type": "markdown",
      "source": [
        "#### JSON Files\n",
        "\n",
        "```python\n",
        "from langchain_community.document_loaders import JSONLoader\n",
        "\n",
        "loader = JSONLoader(\n",
        "    file_path=\"./example_data/document.json\",\n",
        "    jq_schema=\".messages[].content\",\n",
        "    text_content=False,\n",
        ")\n",
        "docs = loader.load()\n",
        "```"
      ],
      "metadata": {
        "id": "uK_GdQeNu-Sz"
      }
    },
    {
      "cell_type": "markdown",
      "source": [
        "#### Multiple File Types\n",
        "\n",
        "```python\n",
        "from langchain_unstructured import UnstructuredLoader\n",
        "\n",
        "file_paths = [\n",
        "    \"./example_data/layout-parser-paper.pdf\",\n",
        "    \"./example_data/state_of_the_union.txt\",\n",
        "]\n",
        "loader = UnstructuredLoader(file_paths)\n",
        "docs = loader.load()\n",
        "```"
      ],
      "metadata": {
        "id": "MdgaAcYyvBcK"
      }
    },
    {
      "cell_type": "markdown",
      "source": [
        "## Text Splitting Strategies\n",
        "\n",
        "Processing long documents requires breaking them into smaller chunks. LangChain offers several text splitting approaches:"
      ],
      "metadata": {
        "id": "3dfdD90vvEEC"
      }
    },
    {
      "cell_type": "markdown",
      "source": [
        "### RecursiveCharacterTextSplitter\n",
        "\n",
        "This is the most versatile splitter, which recursively tries to split by different delimiters.\n",
        "\n",
        "```python\n",
        "from langchain_text_splitters import RecursiveCharacterTextSplitter\n",
        "\n",
        "text_splitter = RecursiveCharacterTextSplitter(chunk_size=100, chunk_overlap=0)\n",
        "texts = text_splitter.split_text(document)\n",
        "```"
      ],
      "metadata": {
        "id": "2zAB5eGOvGr4"
      }
    },
    {
      "cell_type": "markdown",
      "source": [
        "### MarkdownHeaderTextSplitter\n",
        "\n",
        "Specialized for Markdown documents, this splitter preserves the header structure.\n",
        "\n",
        "```python\n",
        "from langchain_text_splitters import MarkdownHeaderTextSplitter\n",
        "\n",
        "markdown_document = \"# Foo\\n\\n    ## Bar\\n\\nHi this is Jim\\n\\nHi this is Joe\\n\\n ### Boo \\n\\n Hi this is Lance \\n\\n ## Baz\\n\\n Hi this is Molly\"\n",
        "headers_to_split_on = [\n",
        "    (\"#\", \"Header 1\"),\n",
        "    (\"##\", \"Header 2\"),\n",
        "    (\"###\", \"Header 3\"),\n",
        "]\n",
        "markdown_splitter = MarkdownHeaderTextSplitter(headers_to_split_on)\n",
        "md_header_splits = markdown_splitter.split_text(markdown_document)\n",
        "```"
      ],
      "metadata": {
        "id": "nOXFuYPqvLQk"
      }
    },
    {
      "cell_type": "markdown",
      "source": [
        "### Semantic Chunk Splitting\n",
        "\n",
        "This advanced splitter uses embeddings to detect natural semantic boundaries. If embeddings are sufficiently far apart, chunks are split. This chunker works by determining when to \"break\" apart sentences. This is done by looking for differences in embeddings between any two sentences. When that difference is past some threshold, then they are split. There are a few ways to determine what that threshold is, which are controlled by the breakpoint_threshold_type kwarg. The default way to split is based on percentile. In this method, all differences between sentences are calculated, and then any difference greater than the X percentile is split. The default value for X is 95.0. Standard deviation, interquartile and gradient are some other options. Read more about semantic chunk splitting here: https://github.com/FullStackRetrieval-com/RetrievalTutorials/blob/main/tutorials/LevelsOfTextSplitting/5_Levels_Of_Text_Splitting.ipynb\n",
        "\n",
        "```python\n",
        "from langchain_experimental.text_splitter import SemanticChunker\n",
        "from langchain_openai.embeddings import OpenAIEmbeddings\n",
        "\n",
        "text_splitter = SemanticChunker(OpenAIEmbeddings(), breakpoint_threshold_type=\"percentile\")\n",
        "docs = text_splitter.create_documents([state_of_the_union])\n",
        "```"
      ],
      "metadata": {
        "id": "E96uVPv3vPqD"
      }
    },
    {
      "cell_type": "markdown",
      "source": [
        "## Advanced RAG Strategies\n",
        "\n",
        "Beyond basic RAG, there are several techniques to enhance retrieval quality and response accuracy:"
      ],
      "metadata": {
        "id": "yV8LDXCnvhpo"
      }
    },
    {
      "cell_type": "markdown",
      "source": [
        "### HyDE (Hypothetical Document Embedding)\n",
        "\n",
        "**HyDE** is an innovative approach that transforms query questions into hypothetical documents containing an answer. This helps bridge the semantic gap between queries and documents in the vector space.\n",
        "\n",
        "Traditional retrieval methods often struggle with the semantic gap between short queries and longer, more detailed documents. HyDE addresses this by expanding the query into a full hypothetical document, potentially improving retrieval relevance by making the query representation more similar to the document representations in the vector space.\n",
        "\n",
        "Let's implement a complete HyDE-enhanced RAG system:"
      ],
      "metadata": {
        "id": "9AcGq6HnvkYA"
      }
    },
    {
      "cell_type": "code",
      "source": [
        "# Import necessary packages\n",
        "import bs4\n",
        "from langchain.chat_models import init_chat_model\n",
        "from langchain_core.prompts import ChatPromptTemplate, PromptTemplate, MessagesPlaceholder\n",
        "from langchain_core.vectorstores import InMemoryVectorStore\n",
        "from langchain_core.messages import HumanMessage\n",
        "from langchain_community.document_loaders import PyPDFLoader\n",
        "from langchain_text_splitters import RecursiveCharacterTextSplitter\n",
        "from langchain_openai import OpenAIEmbeddings\n",
        "from langgraph.graph import MessagesState, StateGraph, START\n",
        "from langgraph.checkpoint.memory import MemorySaver\n",
        "\n",
        "# --- Download example data ---\n",
        "import urllib.request\n",
        "from pathlib import Path\n",
        "\n",
        "url = \"https://arxiv.org/pdf/1706.03762.pdf\"\n",
        "dest = Path(\"data/Transformer_Attention_Is_All_You_Need.pdf\")\n",
        "dest.parent.mkdir(exist_ok=True)\n",
        "\n",
        "if not dest.exists():\n",
        "    urllib.request.urlretrieve(url, dest)\n",
        "    print(\"Downloaded:\", dest)\n",
        "else:\n",
        "    print(\"Already downloaded:\", dest)"
      ],
      "metadata": {
        "colab": {
          "base_uri": "https://localhost:8080/"
        },
        "id": "4sBKXdF4u9RR",
        "outputId": "aaf547ec-d1a7-4095-aa67-d257397c3c2c"
      },
      "execution_count": null,
      "outputs": [
        {
          "output_type": "stream",
          "name": "stdout",
          "text": [
            "Already downloaded: data/Transformer_Attention_Is_All_You_Need.pdf\n"
          ]
        }
      ]
    },
    {
      "cell_type": "code",
      "source": [
        "# --- Initialize components ---\n",
        "model = init_chat_model(\"gpt-4o\", model_provider=\"openai\")\n",
        "embeddings = OpenAIEmbeddings(model=\"text-embedding-3-large\")\n",
        "vector_store = InMemoryVectorStore(embeddings)"
      ],
      "metadata": {
        "id": "ir5Gr7KJzF_g"
      },
      "execution_count": null,
      "outputs": []
    },
    {
      "cell_type": "markdown",
      "source": [
        "Like every loader we've seen so far, the ```PyPDFLoader``` also uses the loader.load() functionality. We then use a simple ```RecursiveCharacterTextSplitter``` to split the document."
      ],
      "metadata": {
        "id": "05TjYzmUzbN5"
      }
    },
    {
      "cell_type": "code",
      "source": [
        "# --- Load and process PDF content ---\n",
        "file_path = \"data/Transformer_Attention_Is_All_You_Need.pdf\"\n",
        "loader = PyPDFLoader(file_path)\n",
        "docs = loader.load()\n",
        "text_splitter = RecursiveCharacterTextSplitter(chunk_size=1000, chunk_overlap=200)\n",
        "splits = text_splitter.split_documents(docs)\n",
        "_ = vector_store.add_documents(splits)"
      ],
      "metadata": {
        "id": "U3f2m4n-zHzw"
      },
      "execution_count": null,
      "outputs": []
    },
    {
      "cell_type": "markdown",
      "source": [
        "A good prompt becomes increasingly important when using advanced retrieval techniques. Here, we give the model instructions on what to do in the scenario where creating a document may not be necessary. We also provide it with valuable context that will allow the model to determine when to create hypothetical documents, and when to simply return the user's query. This allows us to minimize token usage and prevents the final model receiving the user query and context from hallucinating or responding incorrectly.\n",
        "\n",
        "Similarly, the prompt for the final model should also be informative and provide instructions on how to interpret the information being passed to it.\n",
        "\n",
        "One important thing to keep in mind is that the model that is generating hypothetical documents should be a decently large model that is capable and knowledgeable enough to create somewhat accurate results. A small model would likely not have enough world knowldge to provide good and factually correct hypothetical documents."
      ],
      "metadata": {
        "id": "Jv3rD4GezMy7"
      }
    },
    {
      "cell_type": "code",
      "source": [
        "# --- Define prompt templates ---\n",
        "# Template for generating hypothetical documents\n",
        "HyDE_prompt = PromptTemplate.from_template(\n",
        "    \"\"\"Given the user's question '{query}', generate a hypothetical document that directly answers the question.\n",
        "    The document should be detailed and in-depth. The document size has to be exactly 1000 characters.\n",
        "\n",
        "    You MUST generate a hypothetical document if the query is about ANY of the following topics:\n",
        "    - Transformers\n",
        "    - Attention mechanisms\n",
        "    - Neural network architectures\n",
        "    - The paper \"Attention is all you need\"\n",
        "    - Self-attention\n",
        "    - Machine translation\n",
        "    - Encoder-decoder architecture\n",
        "    - Sequence modeling\n",
        "\n",
        "    If the user's query is a simple conversational question like \"Hello\", \"What is my name?\", \"How are you?\", or other introductory text, simply return the query exactly as it is with no other text.\"\"\"\n",
        ")\n",
        "\n",
        "# Template for the final response generation\n",
        "prompt = ChatPromptTemplate.from_messages([\n",
        "    (\"system\", \"\"\"You are a helpful assistant that answers questions about the paper \"Attention is all you need\".\n",
        "    Use the context below to answer the question concisely. If the question is about the user's personal information\n",
        "    (like their name), use the conversation history to provide accurate responses.\n",
        "\n",
        "    Context:\n",
        "    {context}\"\"\"),\n",
        "    MessagesPlaceholder(variable_name=\"messages\")\n",
        "])"
      ],
      "metadata": {
        "id": "EhPntyumzJay"
      },
      "execution_count": null,
      "outputs": []
    },
    {
      "cell_type": "markdown",
      "source": [
        "### Creating a Custom State Class\n",
        "\n",
        "For HyDE, we need to track multiple pieces of information beyond just messages. Let's create a custom state class:"
      ],
      "metadata": {
        "id": "I6G_0rAhw5p7"
      }
    },
    {
      "cell_type": "code",
      "source": [
        "from typing import List, Dict, Any, Optional\n",
        "from pydantic import BaseModel, Field\n",
        "\n",
        "class CustomState(BaseModel):\n",
        "    \"\"\"Custom state class to properly track all state elements\"\"\"\n",
        "    messages: List[Any] = Field(default_factory=list)\n",
        "    hypothetical_document: Optional[str] = None\n",
        "    context: Optional[str] = None"
      ],
      "metadata": {
        "id": "O9aJPlvaw6Sl"
      },
      "execution_count": null,
      "outputs": []
    },
    {
      "cell_type": "markdown",
      "source": [
        "This ```CustomState``` class:\n",
        "\n",
        "- Uses Pydantic’s ```BaseModel```, which provides:\n",
        "  - Automatic data validation (e.g., making sure messages is a list)\n",
        "  - Serialization (e.g., converting the class to JSON for APIs or storage)\n",
        "  - Easy default handling and error reporting when working with structured data\n",
        "\n",
        "- Defines three fields to manage and track the application's state:\n",
        "  - ```messages```: A list of items (e.g., chat messages or logs) representing the conversation history. It is initialized as an empty list by default using ```Field(default_factory=list)```.\n",
        "  - The type ```List[Any]``` means it can store any kind of elements, offering flexibility.\n",
        "  - ```hypothetical_document```: An optional string used to store a \"HyDE-generated\" document. Being Optional[str] means this value can either be a string or None (i.e., it may be absent).\n",
        "  - ```context```: Another optional string that holds supporting or retrieved information.\n",
        "\n",
        "Using a class like this keeps the program’s state cleanly organized and ensures the data is valid and easy to work with—especially important in applications involving conversations, document processing, or contextual reasoning."
      ],
      "metadata": {
        "id": "TY2k2v1Ew84F"
      }
    },
    {
      "cell_type": "markdown",
      "source": [
        "### Implementing the HyDE Workflow\n",
        "\n",
        "Now let's define the processing steps for our HyDE-enhanced RAG system:"
      ],
      "metadata": {
        "id": "V01DQlbHxA72"
      }
    },
    {
      "cell_type": "code",
      "source": [
        "# --- Define LangGraph nodes (steps) ---\n",
        "\n",
        "# Node 1: Hypothetical Document Generation\n",
        "def generate_hypothetical_document(state: CustomState) -> Dict[str, Any]:\n",
        "    \"\"\"\n",
        "    Generates a hypothetical 1000 character sized document based on the user's query.\n",
        "\n",
        "    Parameters:\n",
        "        state (CustomState): a custom state containing messages and other metadata\n",
        "\n",
        "    Returns:\n",
        "        dict: updated state with hypothetical_document\n",
        "    \"\"\"\n",
        "    query = state.messages[-1].content\n",
        "    prompt_text = HyDE_prompt.format(query=query)\n",
        "    response = model.invoke(prompt_text)\n",
        "\n",
        "    hypothetical_doc = response.content\n",
        "\n",
        "    # Printing generated document\n",
        "    print(\"\\n--- Hypothetical Document (HyDE) ---\\n\")\n",
        "    print(hypothetical_doc)\n",
        "    print(\"\\n--- End of HyDE ---\\n\")\n",
        "\n",
        "    # Return updated state\n",
        "    return {\"hypothetical_document\": hypothetical_doc}\n",
        "\n",
        "# Node 2: Retriever step\n",
        "def retrieve(state: CustomState) -> Dict[str, Any]:\n",
        "    \"\"\"\n",
        "    Retrieves relevant documents from the vector store using the Hypothetical document as query.\n",
        "\n",
        "    Parameters:\n",
        "        state (CustomState): includes messages and hypothetical_document\n",
        "\n",
        "    Returns:\n",
        "        dict: updated state with context\n",
        "    \"\"\"\n",
        "    hyde_query = state.hypothetical_document\n",
        "\n",
        "    # Skip retrieval for simple queries that don't have meaningful hypothetical documents\n",
        "    # Check if the hyde_query is identical or very similar to the original query\n",
        "    # Print the document or information being passed to the secondary/final model\n",
        "    query = state.messages[-1].content\n",
        "    if hyde_query == query or len(hyde_query) < 30:\n",
        "        context = \"No specific context retrieved for basic queries.\"\n",
        "        print(\"\\n--- Hypothetical Document (HyDE) in Retrieval Step (Sanity Check)---\\n\")\n",
        "        print(context)\n",
        "        print(\"\\n--- End of HyDE ---\\n\")\n",
        "    else:\n",
        "        # Retrieve relevant documents using the hypothetical document\n",
        "        docs = vector_store.similarity_search(hyde_query)\n",
        "        context = \"\\n\\n\".join(d.page_content for d in docs)\n",
        "        print(\"\\n--- Hypothetical Document (HyDE) in Retrieval Step (Sanity Check)---\\n\")\n",
        "        print(hyde_query)\n",
        "        print(\"\\n--- End of HyDE ---\\n\")\n",
        "\n",
        "    # Return updated state\n",
        "    return {\"context\": context}\n",
        "\n",
        "# Node 3: Generator step\n",
        "def generate(state: CustomState) -> Dict[str, Any]:\n",
        "    \"\"\"\n",
        "    Generates a response based on the retrieved context and full chat history.\n",
        "\n",
        "    Parameters:\n",
        "        state (CustomState): includes messages, hypothetical_document, and context\n",
        "\n",
        "    Returns:\n",
        "        dict: updated messages with assistant's reply\n",
        "    \"\"\"\n",
        "    context = state.context\n",
        "    prompt_msg = prompt.invoke({\n",
        "        \"context\": context,\n",
        "        \"messages\": state.messages  # full chat history\n",
        "    })\n",
        "    response = model.invoke(prompt_msg)  # generate response via LLM\n",
        "\n",
        "    # Return only the messages key as we're only updating that part of the state\n",
        "    return {\"messages\": state.messages + [response]}"
      ],
      "metadata": {
        "id": "4KIK3Frsw_Vf"
      },
      "execution_count": null,
      "outputs": []
    },
    {
      "cell_type": "markdown",
      "source": [
        "### Assembling the HyDE-Enhanced RAG Pipeline\n",
        "\n",
        "Finally, let's assemble these components into a complete workflow:"
      ],
      "metadata": {
        "id": "6PwMjKc3xFdQ"
      }
    },
    {
      "cell_type": "code",
      "source": [
        "# --- Construct the LangGraph pipeline ---\n",
        "\n",
        "# Use our custom state class instead of MessagesState\n",
        "builder = StateGraph(CustomState)\n",
        "\n",
        "# Register nodes in the graph\n",
        "builder.add_node(\"generate_hypothetical_document\", generate_hypothetical_document)\n",
        "builder.add_node(\"retrieve\", retrieve)\n",
        "builder.add_node(\"generate\", generate)\n",
        "\n",
        "# Set starting point\n",
        "builder.set_entry_point(\"generate_hypothetical_document\")\n",
        "\n",
        "# Define transitions\n",
        "builder.add_edge(\"generate_hypothetical_document\", \"retrieve\")\n",
        "builder.add_edge(\"retrieve\", \"generate\")\n",
        "\n",
        "# Enable conversation memory\n",
        "memory = MemorySaver()\n",
        "app = builder.compile(checkpointer=memory)"
      ],
      "metadata": {
        "id": "zdbXpmEZxEac"
      },
      "execution_count": null,
      "outputs": []
    },
    {
      "cell_type": "code",
      "source": [
        "app"
      ],
      "metadata": {
        "colab": {
          "base_uri": "https://localhost:8080/",
          "height": 449
        },
        "id": "gIqHpxlR3CmO",
        "outputId": "79be0ed5-4c14-4b13-8166-d75f00265d80"
      },
      "execution_count": null,
      "outputs": [
        {
          "output_type": "execute_result",
          "data": {
            "text/plain": [
              "<langgraph.graph.state.CompiledStateGraph object at 0x78febb855910>"
            ],
            "image/png": "[encoded data removed]"
          },
          "metadata": {},
          "execution_count": 42
        }
      ]
    },
    {
      "cell_type": "code",
      "source": [
        "# --- Test the HyDE-enhanced RAG system ---\n",
        "config = {\"configurable\": {\"thread_id\": \"HyDE-rag\"}}\n",
        "\n",
        "# First user message\n",
        "response = app.invoke({\"messages\": [HumanMessage(content=\"My name is Umang.\")]}, config)\n",
        "print(\"Response 1: \" + response[\"messages\"][-1].content)"
      ],
      "metadata": {
        "colab": {
          "base_uri": "https://localhost:8080/"
        },
        "id": "VXPjrAkIxKuU",
        "outputId": "da6dffd1-4361-4776-b1ea-c95e0fb66932"
      },
      "execution_count": null,
      "outputs": [
        {
          "output_type": "stream",
          "name": "stdout",
          "text": [
            "\n",
            "--- Hypothetical Document (HyDE) ---\n",
            "\n",
            "My name is Umang.\n",
            "\n",
            "--- End of HyDE ---\n",
            "\n",
            "\n",
            "--- Hypothetical Document (HyDE) in Retrieval Step (Sanity Check)---\n",
            "\n",
            "No specific context retrieved for basic queries.\n",
            "\n",
            "--- End of HyDE ---\n",
            "\n",
            "Response 1: Nice to meet you, Umang! How can I assist you today?\n"
          ]
        }
      ]
    },
    {
      "cell_type": "code",
      "source": [
        "# Second message\n",
        "response = app.invoke({\"messages\": response[\"messages\"] + [HumanMessage(content=\"What is my name?\")]}, config)\n",
        "print(\"Response 2: \" + response[\"messages\"][-1].content)"
      ],
      "metadata": {
        "colab": {
          "base_uri": "https://localhost:8080/"
        },
        "id": "k1pP9CEPxP6Q",
        "outputId": "46cea3a8-9b9f-4f3f-c884-96fa7e6a7540"
      },
      "execution_count": null,
      "outputs": [
        {
          "output_type": "stream",
          "name": "stdout",
          "text": [
            "\n",
            "--- Hypothetical Document (HyDE) ---\n",
            "\n",
            "What is my name?\n",
            "\n",
            "--- End of HyDE ---\n",
            "\n",
            "\n",
            "--- Hypothetical Document (HyDE) in Retrieval Step (Sanity Check)---\n",
            "\n",
            "No specific context retrieved for basic queries.\n",
            "\n",
            "--- End of HyDE ---\n",
            "\n",
            "Response 2: Your name is Umang.\n"
          ]
        }
      ]
    },
    {
      "cell_type": "code",
      "source": [
        "# RAG question\n",
        "response = app.invoke({\"messages\": response[\"messages\"] + [HumanMessage(content=\"What is Attention?\")]}, config)\n",
        "print(\"Response 3: \" + response[\"messages\"][-1].content)"
      ],
      "metadata": {
        "colab": {
          "base_uri": "https://localhost:8080/"
        },
        "id": "5McRQvgNxRYK",
        "outputId": "9b4fbf54-fb63-489c-be48-7d0480ec62fd"
      },
      "execution_count": null,
      "outputs": [
        {
          "output_type": "stream",
          "name": "stdout",
          "text": [
            "\n",
            "--- Hypothetical Document (HyDE) ---\n",
            "\n",
            "Attention is a mechanism used in neural networks to dynamically focus on relevant parts of input data, particularly beneficial in sequence modeling. Exemplified in the seminal paper \"Attention is All You Need,\" this mechanism revolutionized architectures by enabling models to consider multiple parts of the sequence simultaneously, rather than sequentially. Attention mechanisms assign varying importance to different elements of a sequence, allowing models to efficiently handle tasks such as machine translation and language modeling.\n",
            "\n",
            "There are multiple types of attention, including self-attention, where a sequence's elements attend to each other, capturing intricate dependencies within the sequence. This is crucial in transformers, a model that relies entirely on self-attention and feed-forward neural networks, forsaking traditional recurrence seen in earlier models like RNNs or LSTMs.\n",
            "\n",
            "In the encoder-decoder architecture, often used in machine translation, attention mechanisms enhance the encoding of input by focusing on specific words needing translation at each step. Overall, attention is a cornerstone in advanced neural network architectures, improving performance and efficiency in diverse applications.\n",
            "\n",
            "--- End of HyDE ---\n",
            "\n",
            "\n",
            "--- Hypothetical Document (HyDE) in Retrieval Step (Sanity Check)---\n",
            "\n",
            "Attention is a mechanism used in neural networks to dynamically focus on relevant parts of input data, particularly beneficial in sequence modeling. Exemplified in the seminal paper \"Attention is All You Need,\" this mechanism revolutionized architectures by enabling models to consider multiple parts of the sequence simultaneously, rather than sequentially. Attention mechanisms assign varying importance to different elements of a sequence, allowing models to efficiently handle tasks such as machine translation and language modeling.\n",
            "\n",
            "There are multiple types of attention, including self-attention, where a sequence's elements attend to each other, capturing intricate dependencies within the sequence. This is crucial in transformers, a model that relies entirely on self-attention and feed-forward neural networks, forsaking traditional recurrence seen in earlier models like RNNs or LSTMs.\n",
            "\n",
            "In the encoder-decoder architecture, often used in machine translation, attention mechanisms enhance the encoding of input by focusing on specific words needing translation at each step. Overall, attention is a cornerstone in advanced neural network architectures, improving performance and efficiency in diverse applications.\n",
            "\n",
            "--- End of HyDE ---\n",
            "\n",
            "Response 3: Attention is a mechanism that allows a model to focus on different parts of the input sequence when generating a representation or output. In the context of the Transformer model, attention is used to determine which parts of the input sequence are most relevant to a particular position in the sequence. Self-attention, a specific type of attention used in the Transformer, relates different positions of a single sequence in order to compute a representation of that sequence. This mechanism enables the model to weigh the importance of each word in the input sequence relative to others and helps in capturing long-range dependencies effectively.\n"
          ]
        }
      ]
    },
    {
      "cell_type": "code",
      "source": [
        "# Follow-up\n",
        "response = app.invoke({\"messages\": response[\"messages\"] + [HumanMessage(content=\"Can you elaborate on that?\")]}, config)\n",
        "print(\"Response 4: \" + response[\"messages\"][-1].content)"
      ],
      "metadata": {
        "colab": {
          "base_uri": "https://localhost:8080/"
        },
        "id": "i8P5gI6VxUYK",
        "outputId": "0cf41a00-a851-4ba0-9fb7-91c5fc7ef425"
      },
      "execution_count": null,
      "outputs": [
        {
          "output_type": "stream",
          "name": "stdout",
          "text": [
            "\n",
            "--- Hypothetical Document (HyDE) ---\n",
            "\n",
            "The paper \"Attention is All You Need,\" published in 2017 by Vaswani et al., revolutionized neural network architectures, particularly in natural language processing tasks like machine translation. The key innovation introduced was the Transformer model, which fundamentally relies on the self-attention mechanism. This mechanism allows the model to weigh the importance of different words in a sentence, irrespective of their positional relationships, overcoming the limitations of RNNs that process sequentially. The attention mechanism calculates a score for each word pair in a sequence, derived from queries, keys, and values. This approach enables the model to consider context comprehensively, improving translation accuracy. The architecture consists of an encoder and a decoder, both utilizing stacked layers of multi-head self-attention and position-wise fully connected feed-forward networks. Positional encodings are added to input data to give the model a sense of order, crucial for understanding sequences. Transformers have become foundational in AI, powering state-of-the-art models like GPT and BERT.\n",
            "\n",
            "--- End of HyDE ---\n",
            "\n",
            "\n",
            "--- Hypothetical Document (HyDE) in Retrieval Step (Sanity Check)---\n",
            "\n",
            "The paper \"Attention is All You Need,\" published in 2017 by Vaswani et al., revolutionized neural network architectures, particularly in natural language processing tasks like machine translation. The key innovation introduced was the Transformer model, which fundamentally relies on the self-attention mechanism. This mechanism allows the model to weigh the importance of different words in a sentence, irrespective of their positional relationships, overcoming the limitations of RNNs that process sequentially. The attention mechanism calculates a score for each word pair in a sequence, derived from queries, keys, and values. This approach enables the model to consider context comprehensively, improving translation accuracy. The architecture consists of an encoder and a decoder, both utilizing stacked layers of multi-head self-attention and position-wise fully connected feed-forward networks. Positional encodings are added to input data to give the model a sense of order, crucial for understanding sequences. Transformers have become foundational in AI, powering state-of-the-art models like GPT and BERT.\n",
            "\n",
            "--- End of HyDE ---\n",
            "\n",
            "Response 4: Certainly! Attention mechanisms, particularly self-attention, are crucial components of the Transformer model architecture. Here's how it works:\n",
            "\n",
            "1. **Focus on Relevant Parts**: Imagine you're reading a sentence and trying to understand the meaning of a word. Instead of considering the whole sentence equally, you might focus more on the words that most strongly influence the meaning of the word you're interested in. Similarly, attention allows the model to assign different weights to different parts of the input sequence, thereby focusing on the most relevant parts.\n",
            "\n",
            "2. **Self-Attention Mechanism**:\n",
            "   - **Input Representations**: The model takes a sequence of input embeddings.\n",
            "   - **Query, Key, and Value Vectors**: For each position in the input sequence, self-attention computes three vectors: a Query, a Key, and a Value. These vectors are obtained by multiplying the input embeddings by learned weight matrices.\n",
            "   - **Attention Scores**: The Query vector of a position is compared with Key vectors of all positions in the sequence to calculate a score. These scores determine how much attention each position should pay to others.\n",
            "   - **Weighted Sum**: The scores are used to weight the Value vectors of all positions, leading to a weighted sum that forms the output of the self-attention mechanism for each position.\n",
            "\n",
            "3. **Parallelization and Efficiency**: Unlike recurrent models, which process sequences in a step-by-step manner, the self-attention mechanism allows the Transformer to process all positions of the sequence simultaneously. This parallelization significantly improves computation speed, especially for long sequences.\n",
            "\n",
            "4. **Capturing Dependencies**: Self-attention can capture dependencies between words irrespective of their distance in the sequence, enabling sophisticated understanding of context and relationships within the data.\n",
            "\n",
            "In summary, attention mechanisms in the Transformer enable the model to dynamically weigh the influence of different parts of an input sequence, capturing meaningful patterns and dependencies efficiently.\n"
          ]
        }
      ]
    },
    {
      "cell_type": "markdown",
      "source": [
        "### Other Advanced RAG Techniques\n",
        "\n",
        "There are several other techniques that can improve RAG performance:\n",
        "\n",
        "- **HyPE (Hypothetical Prompt Embeddings)**: Pre-computes hypothetical prompts during indexing, transforming retrieval into a question-question matching task. This avoids runtime synthetic answer generation, reducing computational overhead.\n",
        "\n",
        "- **Hierarchical Indices**: Organizes information in a multi-level structure:\n",
        "  1. Top-Level Summaries: Brief overviews of entire documents\n",
        "  2. Mid-Level Overviews: More detailed summaries of subsections\n",
        "  3. Detailed Chunks: Specific, granular pieces of information\n",
        "\n",
        "  This structure enables more efficient and context-aware retrieval."
      ],
      "metadata": {
        "id": "GNVshikCxWt7"
      }
    },
    {
      "cell_type": "markdown",
      "source": [
        "![hierarchical_indices.svg](data:image/svg+xml;base64,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)"
      ],
      "metadata": {
        "id": "g2oRCFFZe_bM"
      }
    },
    {
      "cell_type": "markdown",
      "source": [
        "- GraphRAG: GraphRAG is an advanced question-answering system that combines the power of graph-based knowledge representation with retrieval-augmented generation. It processes input documents to create a rich knowledge graph, which is then used to enhance the retrieval and generation of answers to user queries. The system leverages natural language processing, machine learning, and graph theory to provide more accurate and contextually relevant responses.\n",
        "\n",
        "  **Motivation**\n",
        "\n",
        "  Traditional retrieval-augmented generation systems often struggle with maintaining context over long documents and making connections between related pieces of information. GraphRAG addresses these limitations by:\n",
        "\n",
        "  Representing knowledge as an interconnected graph, allowing for better preservation of relationships between concepts.\n",
        "  Enabling more intelligent traversal of information during the query process.\n",
        "  Providing a visual representation of how information is connected and accessed during the answering process.\n",
        "\n",
        "  GraphRAG often requires extensive knowledge of graph theory and custom solutions, though there seems to be some progress towards creating more straightforward implementations."
      ],
      "metadata": {
        "id": "AsCJwWXFfde4"
      }
    },
    {
      "cell_type": "markdown",
      "source": [
        "That completes our overview of RAG. There are many more augmentations and advanced techniques that we couldn't cover. For a more detailed description and implementations of these techniques, check out this amazing (and constantly updated!) repository: https://github.com/NirDiamant/RAG_Techniques"
      ],
      "metadata": {
        "id": "p2mkda50gQ0a"
      }
    }
  ]
}